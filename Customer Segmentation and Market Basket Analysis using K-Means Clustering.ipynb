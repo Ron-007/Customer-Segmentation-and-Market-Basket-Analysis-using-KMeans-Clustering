{
 "cells": [
  {
   "cell_type": "markdown",
   "id": "WVHWT-MEZMXm",
   "metadata": {
    "id": "WVHWT-MEZMXm"
   },
   "source": [
    "**Advance Data Science and Architecture**\n",
    "\n",
    "**Assignment 1** **-** **K-Means Clustering**\n",
    "\n",
    "**Name** - **Ronak Bhushan Patil**\n",
    "\n",
    "**NUID** - **001007035**\n",
    "\n",
    "**Abstract**\n",
    "\n",
    "In this notebook, we used the dataset On-line Retail to investigate customer segmentation utilizing the fun challenge of unsupervised learning. The aim of the notebook is to create a k-means clustering algorithm without using any machine learning libraries."
   ]
  },
  {
   "cell_type": "markdown",
   "id": "E3YmMrv2b1lx",
   "metadata": {
    "id": "E3YmMrv2b1lx"
   },
   "source": [
    "# **Importing Libraries**"
   ]
  },
  {
   "cell_type": "code",
   "execution_count": 3,
   "id": "s9kBRkdaZRla",
   "metadata": {
    "id": "s9kBRkdaZRla"
   },
   "outputs": [],
   "source": [
    "import pandas as pd\n",
    "import numpy as np\n",
    "import matplotlib.pyplot as plt\n",
    "import seaborn as sns\n",
    "import datetime as dt\n",
    "import matplotlib.cm as cm\n",
    "import os as os\n",
    "\n",
    "%matplotlib inline"
   ]
  },
  {
   "cell_type": "code",
   "execution_count": 4,
   "id": "3024d34a",
   "metadata": {
    "colab": {
     "base_uri": "https://localhost:8080/",
     "height": 35
    },
    "id": "3024d34a",
    "outputId": "57906141-96ec-4164-ccc1-85aea72a3d28"
   },
   "outputs": [
    {
     "data": {
      "text/plain": [
       "'C:\\\\Users\\\\ronak'"
      ]
     },
     "execution_count": 4,
     "metadata": {},
     "output_type": "execute_result"
    }
   ],
   "source": [
    "pwd"
   ]
  },
  {
   "cell_type": "code",
   "execution_count": 5,
   "id": "2db89aaf",
   "metadata": {},
   "outputs": [
    {
     "name": "stdout",
     "output_type": "stream",
     "text": [
      "C:\\Users\\ronak\\Desktop\n"
     ]
    }
   ],
   "source": [
    "cd Desktop"
   ]
  },
  {
   "cell_type": "code",
   "execution_count": 6,
   "id": "7409b9ac",
   "metadata": {},
   "outputs": [
    {
     "name": "stdout",
     "output_type": "stream",
     "text": [
      "C:\\Users\\ronak\\Desktop\\Spring 2022\n"
     ]
    }
   ],
   "source": [
    "cd Spring 2022"
   ]
  },
  {
   "cell_type": "code",
   "execution_count": 7,
   "id": "c3a0ec46",
   "metadata": {},
   "outputs": [
    {
     "name": "stdout",
     "output_type": "stream",
     "text": [
      "C:\\Users\\ronak\\Desktop\\Spring 2022\\ADS\n"
     ]
    }
   ],
   "source": [
    "cd ADS"
   ]
  },
  {
   "cell_type": "markdown",
   "id": "s-SOWzbaZfB1",
   "metadata": {
    "id": "s-SOWzbaZfB1"
   },
   "source": [
    "# **Uploading and Reading the Dataset**"
   ]
  },
  {
   "cell_type": "code",
   "execution_count": 8,
   "id": "a8466d86",
   "metadata": {
    "id": "a8466d86"
   },
   "outputs": [],
   "source": [
    "retail = pd.read_excel('OnlineRetail.xlsx')"
   ]
  },
  {
   "cell_type": "code",
   "execution_count": 9,
   "id": "51133124",
   "metadata": {
    "colab": {
     "base_uri": "https://localhost:8080/"
    },
    "id": "51133124",
    "outputId": "a9382caa-01de-45eb-ac26-15775b0e5c64"
   },
   "outputs": [
    {
     "name": "stdout",
     "output_type": "stream",
     "text": [
      "(541909, 8)\n"
     ]
    }
   ],
   "source": [
    "print(retail.shape)"
   ]
  },
  {
   "cell_type": "markdown",
   "id": "bwL7eh4P7H8i",
   "metadata": {
    "id": "bwL7eh4P7H8i"
   },
   "source": [
    "**The dataset has 541909 observations in it and 8 columns which is a mix between categorical and numeric values.**"
   ]
  },
  {
   "cell_type": "code",
   "execution_count": 10,
   "id": "b413ae66",
   "metadata": {
    "colab": {
     "base_uri": "https://localhost:8080/",
     "height": 0
    },
    "id": "b413ae66",
    "outputId": "d0ae06f0-a201-41b2-82bf-50ed3cf515ca"
   },
   "outputs": [
    {
     "data": {
      "text/html": [
       "<div>\n",
       "<style scoped>\n",
       "    .dataframe tbody tr th:only-of-type {\n",
       "        vertical-align: middle;\n",
       "    }\n",
       "\n",
       "    .dataframe tbody tr th {\n",
       "        vertical-align: top;\n",
       "    }\n",
       "\n",
       "    .dataframe thead th {\n",
       "        text-align: right;\n",
       "    }\n",
       "</style>\n",
       "<table border=\"1\" class=\"dataframe\">\n",
       "  <thead>\n",
       "    <tr style=\"text-align: right;\">\n",
       "      <th></th>\n",
       "      <th>InvoiceNo</th>\n",
       "      <th>StockCode</th>\n",
       "      <th>Description</th>\n",
       "      <th>Quantity</th>\n",
       "      <th>InvoiceDate</th>\n",
       "      <th>UnitPrice</th>\n",
       "      <th>CustomerID</th>\n",
       "      <th>Country</th>\n",
       "    </tr>\n",
       "  </thead>\n",
       "  <tbody>\n",
       "    <tr>\n",
       "      <th>0</th>\n",
       "      <td>536365</td>\n",
       "      <td>85123A</td>\n",
       "      <td>WHITE HANGING HEART T-LIGHT HOLDER</td>\n",
       "      <td>6</td>\n",
       "      <td>2010-12-01 08:26:00</td>\n",
       "      <td>2.55</td>\n",
       "      <td>17850.0</td>\n",
       "      <td>United Kingdom</td>\n",
       "    </tr>\n",
       "    <tr>\n",
       "      <th>1</th>\n",
       "      <td>536365</td>\n",
       "      <td>71053</td>\n",
       "      <td>WHITE METAL LANTERN</td>\n",
       "      <td>6</td>\n",
       "      <td>2010-12-01 08:26:00</td>\n",
       "      <td>3.39</td>\n",
       "      <td>17850.0</td>\n",
       "      <td>United Kingdom</td>\n",
       "    </tr>\n",
       "    <tr>\n",
       "      <th>2</th>\n",
       "      <td>536365</td>\n",
       "      <td>84406B</td>\n",
       "      <td>CREAM CUPID HEARTS COAT HANGER</td>\n",
       "      <td>8</td>\n",
       "      <td>2010-12-01 08:26:00</td>\n",
       "      <td>2.75</td>\n",
       "      <td>17850.0</td>\n",
       "      <td>United Kingdom</td>\n",
       "    </tr>\n",
       "    <tr>\n",
       "      <th>3</th>\n",
       "      <td>536365</td>\n",
       "      <td>84029G</td>\n",
       "      <td>KNITTED UNION FLAG HOT WATER BOTTLE</td>\n",
       "      <td>6</td>\n",
       "      <td>2010-12-01 08:26:00</td>\n",
       "      <td>3.39</td>\n",
       "      <td>17850.0</td>\n",
       "      <td>United Kingdom</td>\n",
       "    </tr>\n",
       "    <tr>\n",
       "      <th>4</th>\n",
       "      <td>536365</td>\n",
       "      <td>84029E</td>\n",
       "      <td>RED WOOLLY HOTTIE WHITE HEART.</td>\n",
       "      <td>6</td>\n",
       "      <td>2010-12-01 08:26:00</td>\n",
       "      <td>3.39</td>\n",
       "      <td>17850.0</td>\n",
       "      <td>United Kingdom</td>\n",
       "    </tr>\n",
       "  </tbody>\n",
       "</table>\n",
       "</div>"
      ],
      "text/plain": [
       "  InvoiceNo StockCode                          Description  Quantity  \\\n",
       "0    536365    85123A   WHITE HANGING HEART T-LIGHT HOLDER         6   \n",
       "1    536365     71053                  WHITE METAL LANTERN         6   \n",
       "2    536365    84406B       CREAM CUPID HEARTS COAT HANGER         8   \n",
       "3    536365    84029G  KNITTED UNION FLAG HOT WATER BOTTLE         6   \n",
       "4    536365    84029E       RED WOOLLY HOTTIE WHITE HEART.         6   \n",
       "\n",
       "          InvoiceDate  UnitPrice  CustomerID         Country  \n",
       "0 2010-12-01 08:26:00       2.55     17850.0  United Kingdom  \n",
       "1 2010-12-01 08:26:00       3.39     17850.0  United Kingdom  \n",
       "2 2010-12-01 08:26:00       2.75     17850.0  United Kingdom  \n",
       "3 2010-12-01 08:26:00       3.39     17850.0  United Kingdom  \n",
       "4 2010-12-01 08:26:00       3.39     17850.0  United Kingdom  "
      ]
     },
     "execution_count": 10,
     "metadata": {},
     "output_type": "execute_result"
    }
   ],
   "source": [
    "retail.head()"
   ]
  },
  {
   "cell_type": "markdown",
   "id": "OQOQjr1FZ-_9",
   "metadata": {
    "id": "OQOQjr1FZ-_9"
   },
   "source": [
    "# **Data Preprocessing and Cleaning**"
   ]
  },
  {
   "cell_type": "code",
   "execution_count": 11,
   "id": "158e7dbd",
   "metadata": {
    "colab": {
     "base_uri": "https://localhost:8080/"
    },
    "id": "158e7dbd",
    "outputId": "d52e5bb2-b834-4898-84c0-6ea93192c233"
   },
   "outputs": [
    {
     "name": "stdout",
     "output_type": "stream",
     "text": [
      "<class 'pandas.core.frame.DataFrame'>\n",
      "RangeIndex: 541909 entries, 0 to 541908\n",
      "Data columns (total 8 columns):\n",
      " #   Column       Non-Null Count   Dtype         \n",
      "---  ------       --------------   -----         \n",
      " 0   InvoiceNo    541909 non-null  object        \n",
      " 1   StockCode    541909 non-null  object        \n",
      " 2   Description  540455 non-null  object        \n",
      " 3   Quantity     541909 non-null  int64         \n",
      " 4   InvoiceDate  541909 non-null  datetime64[ns]\n",
      " 5   UnitPrice    541909 non-null  float64       \n",
      " 6   CustomerID   406829 non-null  float64       \n",
      " 7   Country      541909 non-null  object        \n",
      "dtypes: datetime64[ns](1), float64(2), int64(1), object(4)\n",
      "memory usage: 33.1+ MB\n"
     ]
    }
   ],
   "source": [
    "retail.info()"
   ]
  },
  {
   "cell_type": "code",
   "execution_count": 12,
   "id": "855d875d",
   "metadata": {
    "colab": {
     "base_uri": "https://localhost:8080/",
     "height": 0
    },
    "id": "855d875d",
    "outputId": "3dd7a845-514b-419a-ef0d-7a6878ada47b"
   },
   "outputs": [
    {
     "data": {
      "text/html": [
       "<div>\n",
       "<style scoped>\n",
       "    .dataframe tbody tr th:only-of-type {\n",
       "        vertical-align: middle;\n",
       "    }\n",
       "\n",
       "    .dataframe tbody tr th {\n",
       "        vertical-align: top;\n",
       "    }\n",
       "\n",
       "    .dataframe thead th {\n",
       "        text-align: right;\n",
       "    }\n",
       "</style>\n",
       "<table border=\"1\" class=\"dataframe\">\n",
       "  <thead>\n",
       "    <tr style=\"text-align: right;\">\n",
       "      <th></th>\n",
       "      <th>Quantity</th>\n",
       "      <th>UnitPrice</th>\n",
       "      <th>CustomerID</th>\n",
       "    </tr>\n",
       "  </thead>\n",
       "  <tbody>\n",
       "    <tr>\n",
       "      <th>count</th>\n",
       "      <td>541909.000000</td>\n",
       "      <td>541909.000000</td>\n",
       "      <td>406829.000000</td>\n",
       "    </tr>\n",
       "    <tr>\n",
       "      <th>mean</th>\n",
       "      <td>9.552250</td>\n",
       "      <td>4.611114</td>\n",
       "      <td>15287.690570</td>\n",
       "    </tr>\n",
       "    <tr>\n",
       "      <th>std</th>\n",
       "      <td>218.081158</td>\n",
       "      <td>96.759853</td>\n",
       "      <td>1713.600303</td>\n",
       "    </tr>\n",
       "    <tr>\n",
       "      <th>min</th>\n",
       "      <td>-80995.000000</td>\n",
       "      <td>-11062.060000</td>\n",
       "      <td>12346.000000</td>\n",
       "    </tr>\n",
       "    <tr>\n",
       "      <th>25%</th>\n",
       "      <td>1.000000</td>\n",
       "      <td>1.250000</td>\n",
       "      <td>13953.000000</td>\n",
       "    </tr>\n",
       "    <tr>\n",
       "      <th>50%</th>\n",
       "      <td>3.000000</td>\n",
       "      <td>2.080000</td>\n",
       "      <td>15152.000000</td>\n",
       "    </tr>\n",
       "    <tr>\n",
       "      <th>75%</th>\n",
       "      <td>10.000000</td>\n",
       "      <td>4.130000</td>\n",
       "      <td>16791.000000</td>\n",
       "    </tr>\n",
       "    <tr>\n",
       "      <th>max</th>\n",
       "      <td>80995.000000</td>\n",
       "      <td>38970.000000</td>\n",
       "      <td>18287.000000</td>\n",
       "    </tr>\n",
       "  </tbody>\n",
       "</table>\n",
       "</div>"
      ],
      "text/plain": [
       "            Quantity      UnitPrice     CustomerID\n",
       "count  541909.000000  541909.000000  406829.000000\n",
       "mean        9.552250       4.611114   15287.690570\n",
       "std       218.081158      96.759853    1713.600303\n",
       "min    -80995.000000  -11062.060000   12346.000000\n",
       "25%         1.000000       1.250000   13953.000000\n",
       "50%         3.000000       2.080000   15152.000000\n",
       "75%        10.000000       4.130000   16791.000000\n",
       "max     80995.000000   38970.000000   18287.000000"
      ]
     },
     "execution_count": 12,
     "metadata": {},
     "output_type": "execute_result"
    }
   ],
   "source": [
    "retail.describe()"
   ]
  },
  {
   "cell_type": "markdown",
   "id": "R2stxeoc7Y62",
   "metadata": {
    "id": "R2stxeoc7Y62"
   },
   "source": [
    "**From the above describe function we can infer below few points** \n",
    "\n",
    "*   The min value for Quantity and Unit Price are negative\n",
    "*   The average number of quantity of product customer buys are 9 and have mean value approx 4 for Unit Price"
   ]
  },
  {
   "cell_type": "code",
   "execution_count": 13,
   "id": "56d2aa1b",
   "metadata": {
    "colab": {
     "base_uri": "https://localhost:8080/",
     "height": 0
    },
    "id": "56d2aa1b",
    "outputId": "65509e12-a046-4804-aeea-e0b07550fb10"
   },
   "outputs": [
    {
     "name": "stdout",
     "output_type": "stream",
     "text": [
      "Check to see whether there were any negative quantities or prices at the same register: No \n",
      "\n",
      "Check to see how many registers we have with a negative quantity and prices is 0 or vice-versa: 1336\n",
      "\n",
      "All register with negative quantity has Invoice start with: ['C']\n",
      "\n",
      "See an example of a negative quantity record, as well as additional records linked to it:\n"
     ]
    },
    {
     "data": {
      "text/html": [
       "<div>\n",
       "<style scoped>\n",
       "    .dataframe tbody tr th:only-of-type {\n",
       "        vertical-align: middle;\n",
       "    }\n",
       "\n",
       "    .dataframe tbody tr th {\n",
       "        vertical-align: top;\n",
       "    }\n",
       "\n",
       "    .dataframe thead th {\n",
       "        text-align: right;\n",
       "    }\n",
       "</style>\n",
       "<table border=\"1\" class=\"dataframe\">\n",
       "  <thead>\n",
       "    <tr style=\"text-align: right;\">\n",
       "      <th></th>\n",
       "      <th>InvoiceNo</th>\n",
       "      <th>StockCode</th>\n",
       "      <th>Description</th>\n",
       "      <th>Quantity</th>\n",
       "      <th>InvoiceDate</th>\n",
       "      <th>UnitPrice</th>\n",
       "      <th>CustomerID</th>\n",
       "      <th>Country</th>\n",
       "    </tr>\n",
       "  </thead>\n",
       "  <tbody>\n",
       "    <tr>\n",
       "      <th>1973</th>\n",
       "      <td>C536548</td>\n",
       "      <td>22244</td>\n",
       "      <td>3 HOOK HANGER MAGIC GARDEN</td>\n",
       "      <td>-4</td>\n",
       "      <td>2010-12-01 14:33:00</td>\n",
       "      <td>1.95</td>\n",
       "      <td>12472.0</td>\n",
       "      <td>Germany</td>\n",
       "    </tr>\n",
       "    <tr>\n",
       "      <th>9438</th>\n",
       "      <td>537201</td>\n",
       "      <td>22244</td>\n",
       "      <td>3 HOOK HANGER MAGIC GARDEN</td>\n",
       "      <td>12</td>\n",
       "      <td>2010-12-05 14:19:00</td>\n",
       "      <td>1.95</td>\n",
       "      <td>12472.0</td>\n",
       "      <td>Germany</td>\n",
       "    </tr>\n",
       "    <tr>\n",
       "      <th>121980</th>\n",
       "      <td>546843</td>\n",
       "      <td>22244</td>\n",
       "      <td>3 HOOK HANGER MAGIC GARDEN</td>\n",
       "      <td>12</td>\n",
       "      <td>2011-03-17 12:40:00</td>\n",
       "      <td>1.95</td>\n",
       "      <td>12472.0</td>\n",
       "      <td>Germany</td>\n",
       "    </tr>\n",
       "  </tbody>\n",
       "</table>\n",
       "</div>"
      ],
      "text/plain": [
       "       InvoiceNo StockCode                 Description  Quantity  \\\n",
       "1973     C536548     22244  3 HOOK HANGER MAGIC GARDEN        -4   \n",
       "9438      537201     22244  3 HOOK HANGER MAGIC GARDEN        12   \n",
       "121980    546843     22244  3 HOOK HANGER MAGIC GARDEN        12   \n",
       "\n",
       "               InvoiceDate  UnitPrice  CustomerID  Country  \n",
       "1973   2010-12-01 14:33:00       1.95     12472.0  Germany  \n",
       "9438   2010-12-05 14:19:00       1.95     12472.0  Germany  \n",
       "121980 2011-03-17 12:40:00       1.95     12472.0  Germany  "
      ]
     },
     "metadata": {},
     "output_type": "display_data"
    }
   ],
   "source": [
    "print('Check to see whether there were any negative quantities or prices at the same register:',\n",
    "     'No' if retail[(retail.Quantity<0) & (retail.UnitPrice<0)].shape[0] == 0 else 'Yes', '\\n')\n",
    "print('Check to see how many registers we have with a negative quantity',\n",
    "      'and prices is 0 or vice-versa:',\n",
    "      retail[(retail.Quantity<=0) & (retail.UnitPrice<=0)].shape[0])\n",
    "print('\\nAll register with negative quantity has Invoice start with:', \n",
    "      retail.loc[(retail.Quantity<0) & ~(retail.CustomerID.isnull()), 'InvoiceNo'].apply(lambda x: x[0]).unique())\n",
    "print('\\nSee an example of a negative quantity record, as well as additional records linked to it:')\n",
    "display(retail[(retail.CustomerID==12472) & (retail.StockCode==22244)])"
   ]
  },
  {
   "cell_type": "code",
   "execution_count": 14,
   "id": "8d4759a8",
   "metadata": {
    "colab": {
     "base_uri": "https://localhost:8080/",
     "height": 0
    },
    "id": "8d4759a8",
    "outputId": "4f744270-661d-44ac-b417-0ec1a6bb1c1d"
   },
   "outputs": [
    {
     "name": "stdout",
     "output_type": "stream",
     "text": [
      "Check the register for a negative UnitPrice:\n"
     ]
    },
    {
     "data": {
      "text/html": [
       "<div>\n",
       "<style scoped>\n",
       "    .dataframe tbody tr th:only-of-type {\n",
       "        vertical-align: middle;\n",
       "    }\n",
       "\n",
       "    .dataframe tbody tr th {\n",
       "        vertical-align: top;\n",
       "    }\n",
       "\n",
       "    .dataframe thead th {\n",
       "        text-align: right;\n",
       "    }\n",
       "</style>\n",
       "<table border=\"1\" class=\"dataframe\">\n",
       "  <thead>\n",
       "    <tr style=\"text-align: right;\">\n",
       "      <th></th>\n",
       "      <th>InvoiceNo</th>\n",
       "      <th>StockCode</th>\n",
       "      <th>Description</th>\n",
       "      <th>Quantity</th>\n",
       "      <th>InvoiceDate</th>\n",
       "      <th>UnitPrice</th>\n",
       "      <th>CustomerID</th>\n",
       "      <th>Country</th>\n",
       "    </tr>\n",
       "  </thead>\n",
       "  <tbody>\n",
       "    <tr>\n",
       "      <th>299983</th>\n",
       "      <td>A563186</td>\n",
       "      <td>B</td>\n",
       "      <td>Adjust bad debt</td>\n",
       "      <td>1</td>\n",
       "      <td>2011-08-12 14:51:00</td>\n",
       "      <td>-11062.06</td>\n",
       "      <td>NaN</td>\n",
       "      <td>United Kingdom</td>\n",
       "    </tr>\n",
       "    <tr>\n",
       "      <th>299984</th>\n",
       "      <td>A563187</td>\n",
       "      <td>B</td>\n",
       "      <td>Adjust bad debt</td>\n",
       "      <td>1</td>\n",
       "      <td>2011-08-12 14:52:00</td>\n",
       "      <td>-11062.06</td>\n",
       "      <td>NaN</td>\n",
       "      <td>United Kingdom</td>\n",
       "    </tr>\n",
       "  </tbody>\n",
       "</table>\n",
       "</div>"
      ],
      "text/plain": [
       "       InvoiceNo StockCode      Description  Quantity         InvoiceDate  \\\n",
       "299983   A563186         B  Adjust bad debt         1 2011-08-12 14:51:00   \n",
       "299984   A563187         B  Adjust bad debt         1 2011-08-12 14:52:00   \n",
       "\n",
       "        UnitPrice  CustomerID         Country  \n",
       "299983  -11062.06         NaN  United Kingdom  \n",
       "299984  -11062.06         NaN  United Kingdom  "
      ]
     },
     "metadata": {},
     "output_type": "display_data"
    },
    {
     "name": "stdout",
     "output_type": "stream",
     "text": [
      "Sales records with Customer ID and zero in Unit Price: 40\n"
     ]
    },
    {
     "data": {
      "text/html": [
       "<div>\n",
       "<style scoped>\n",
       "    .dataframe tbody tr th:only-of-type {\n",
       "        vertical-align: middle;\n",
       "    }\n",
       "\n",
       "    .dataframe tbody tr th {\n",
       "        vertical-align: top;\n",
       "    }\n",
       "\n",
       "    .dataframe thead th {\n",
       "        text-align: right;\n",
       "    }\n",
       "</style>\n",
       "<table border=\"1\" class=\"dataframe\">\n",
       "  <thead>\n",
       "    <tr style=\"text-align: right;\">\n",
       "      <th></th>\n",
       "      <th>InvoiceNo</th>\n",
       "      <th>StockCode</th>\n",
       "      <th>Description</th>\n",
       "      <th>Quantity</th>\n",
       "      <th>InvoiceDate</th>\n",
       "      <th>UnitPrice</th>\n",
       "      <th>CustomerID</th>\n",
       "      <th>Country</th>\n",
       "    </tr>\n",
       "  </thead>\n",
       "  <tbody>\n",
       "    <tr>\n",
       "      <th>9302</th>\n",
       "      <td>537197</td>\n",
       "      <td>22841</td>\n",
       "      <td>ROUND CAKE TIN VINTAGE GREEN</td>\n",
       "      <td>1</td>\n",
       "      <td>2010-12-05 14:02:00</td>\n",
       "      <td>0.0</td>\n",
       "      <td>12647.0</td>\n",
       "      <td>Germany</td>\n",
       "    </tr>\n",
       "    <tr>\n",
       "      <th>33576</th>\n",
       "      <td>539263</td>\n",
       "      <td>22580</td>\n",
       "      <td>ADVENT CALENDAR GINGHAM SACK</td>\n",
       "      <td>4</td>\n",
       "      <td>2010-12-16 14:36:00</td>\n",
       "      <td>0.0</td>\n",
       "      <td>16560.0</td>\n",
       "      <td>United Kingdom</td>\n",
       "    </tr>\n",
       "    <tr>\n",
       "      <th>40089</th>\n",
       "      <td>539722</td>\n",
       "      <td>22423</td>\n",
       "      <td>REGENCY CAKESTAND 3 TIER</td>\n",
       "      <td>10</td>\n",
       "      <td>2010-12-21 13:45:00</td>\n",
       "      <td>0.0</td>\n",
       "      <td>14911.0</td>\n",
       "      <td>EIRE</td>\n",
       "    </tr>\n",
       "    <tr>\n",
       "      <th>47068</th>\n",
       "      <td>540372</td>\n",
       "      <td>22090</td>\n",
       "      <td>PAPER BUNTING RETROSPOT</td>\n",
       "      <td>24</td>\n",
       "      <td>2011-01-06 16:41:00</td>\n",
       "      <td>0.0</td>\n",
       "      <td>13081.0</td>\n",
       "      <td>United Kingdom</td>\n",
       "    </tr>\n",
       "    <tr>\n",
       "      <th>47070</th>\n",
       "      <td>540372</td>\n",
       "      <td>22553</td>\n",
       "      <td>PLASTERS IN TIN SKULLS</td>\n",
       "      <td>24</td>\n",
       "      <td>2011-01-06 16:41:00</td>\n",
       "      <td>0.0</td>\n",
       "      <td>13081.0</td>\n",
       "      <td>United Kingdom</td>\n",
       "    </tr>\n",
       "    <tr>\n",
       "      <th>56674</th>\n",
       "      <td>541109</td>\n",
       "      <td>22168</td>\n",
       "      <td>ORGANISER WOOD ANTIQUE WHITE</td>\n",
       "      <td>1</td>\n",
       "      <td>2011-01-13 15:10:00</td>\n",
       "      <td>0.0</td>\n",
       "      <td>15107.0</td>\n",
       "      <td>United Kingdom</td>\n",
       "    </tr>\n",
       "    <tr>\n",
       "      <th>86789</th>\n",
       "      <td>543599</td>\n",
       "      <td>84535B</td>\n",
       "      <td>FAIRY CAKES NOTEBOOK A6 SIZE</td>\n",
       "      <td>16</td>\n",
       "      <td>2011-02-10 13:08:00</td>\n",
       "      <td>0.0</td>\n",
       "      <td>17560.0</td>\n",
       "      <td>United Kingdom</td>\n",
       "    </tr>\n",
       "    <tr>\n",
       "      <th>130188</th>\n",
       "      <td>547417</td>\n",
       "      <td>22062</td>\n",
       "      <td>CERAMIC BOWL WITH LOVE HEART DESIGN</td>\n",
       "      <td>36</td>\n",
       "      <td>2011-03-23 10:25:00</td>\n",
       "      <td>0.0</td>\n",
       "      <td>13239.0</td>\n",
       "      <td>United Kingdom</td>\n",
       "    </tr>\n",
       "    <tr>\n",
       "      <th>139453</th>\n",
       "      <td>548318</td>\n",
       "      <td>22055</td>\n",
       "      <td>MINI CAKE STAND  HANGING STRAWBERY</td>\n",
       "      <td>5</td>\n",
       "      <td>2011-03-30 12:45:00</td>\n",
       "      <td>0.0</td>\n",
       "      <td>13113.0</td>\n",
       "      <td>United Kingdom</td>\n",
       "    </tr>\n",
       "    <tr>\n",
       "      <th>145208</th>\n",
       "      <td>548871</td>\n",
       "      <td>22162</td>\n",
       "      <td>HEART GARLAND RUSTIC PADDED</td>\n",
       "      <td>2</td>\n",
       "      <td>2011-04-04 14:42:00</td>\n",
       "      <td>0.0</td>\n",
       "      <td>14410.0</td>\n",
       "      <td>United Kingdom</td>\n",
       "    </tr>\n",
       "    <tr>\n",
       "      <th>157042</th>\n",
       "      <td>550188</td>\n",
       "      <td>22636</td>\n",
       "      <td>CHILDS BREAKFAST SET CIRCUS PARADE</td>\n",
       "      <td>1</td>\n",
       "      <td>2011-04-14 18:57:00</td>\n",
       "      <td>0.0</td>\n",
       "      <td>12457.0</td>\n",
       "      <td>Switzerland</td>\n",
       "    </tr>\n",
       "    <tr>\n",
       "      <th>187613</th>\n",
       "      <td>553000</td>\n",
       "      <td>47566</td>\n",
       "      <td>PARTY BUNTING</td>\n",
       "      <td>4</td>\n",
       "      <td>2011-05-12 15:21:00</td>\n",
       "      <td>0.0</td>\n",
       "      <td>17667.0</td>\n",
       "      <td>United Kingdom</td>\n",
       "    </tr>\n",
       "    <tr>\n",
       "      <th>198383</th>\n",
       "      <td>554037</td>\n",
       "      <td>22619</td>\n",
       "      <td>SET OF 6 SOLDIER SKITTLES</td>\n",
       "      <td>80</td>\n",
       "      <td>2011-05-20 14:13:00</td>\n",
       "      <td>0.0</td>\n",
       "      <td>12415.0</td>\n",
       "      <td>Australia</td>\n",
       "    </tr>\n",
       "    <tr>\n",
       "      <th>279324</th>\n",
       "      <td>561284</td>\n",
       "      <td>22167</td>\n",
       "      <td>OVAL WALL MIRROR DIAMANTE</td>\n",
       "      <td>1</td>\n",
       "      <td>2011-07-26 12:24:00</td>\n",
       "      <td>0.0</td>\n",
       "      <td>16818.0</td>\n",
       "      <td>United Kingdom</td>\n",
       "    </tr>\n",
       "    <tr>\n",
       "      <th>282912</th>\n",
       "      <td>561669</td>\n",
       "      <td>22960</td>\n",
       "      <td>JAM MAKING SET WITH JARS</td>\n",
       "      <td>11</td>\n",
       "      <td>2011-07-28 17:09:00</td>\n",
       "      <td>0.0</td>\n",
       "      <td>12507.0</td>\n",
       "      <td>Spain</td>\n",
       "    </tr>\n",
       "    <tr>\n",
       "      <th>285657</th>\n",
       "      <td>561916</td>\n",
       "      <td>M</td>\n",
       "      <td>Manual</td>\n",
       "      <td>1</td>\n",
       "      <td>2011-08-01 11:44:00</td>\n",
       "      <td>0.0</td>\n",
       "      <td>15581.0</td>\n",
       "      <td>United Kingdom</td>\n",
       "    </tr>\n",
       "    <tr>\n",
       "      <th>298054</th>\n",
       "      <td>562973</td>\n",
       "      <td>23157</td>\n",
       "      <td>SET OF 6 NATIVITY MAGNETS</td>\n",
       "      <td>240</td>\n",
       "      <td>2011-08-11 11:42:00</td>\n",
       "      <td>0.0</td>\n",
       "      <td>14911.0</td>\n",
       "      <td>EIRE</td>\n",
       "    </tr>\n",
       "    <tr>\n",
       "      <th>314745</th>\n",
       "      <td>564651</td>\n",
       "      <td>23270</td>\n",
       "      <td>SET OF 2 CERAMIC PAINTED HEARTS</td>\n",
       "      <td>96</td>\n",
       "      <td>2011-08-26 14:19:00</td>\n",
       "      <td>0.0</td>\n",
       "      <td>14646.0</td>\n",
       "      <td>Netherlands</td>\n",
       "    </tr>\n",
       "    <tr>\n",
       "      <th>314746</th>\n",
       "      <td>564651</td>\n",
       "      <td>23268</td>\n",
       "      <td>SET OF 2 CERAMIC CHRISTMAS REINDEER</td>\n",
       "      <td>192</td>\n",
       "      <td>2011-08-26 14:19:00</td>\n",
       "      <td>0.0</td>\n",
       "      <td>14646.0</td>\n",
       "      <td>Netherlands</td>\n",
       "    </tr>\n",
       "    <tr>\n",
       "      <th>314747</th>\n",
       "      <td>564651</td>\n",
       "      <td>22955</td>\n",
       "      <td>36 FOIL STAR CAKE CASES</td>\n",
       "      <td>144</td>\n",
       "      <td>2011-08-26 14:19:00</td>\n",
       "      <td>0.0</td>\n",
       "      <td>14646.0</td>\n",
       "      <td>Netherlands</td>\n",
       "    </tr>\n",
       "    <tr>\n",
       "      <th>314748</th>\n",
       "      <td>564651</td>\n",
       "      <td>21786</td>\n",
       "      <td>POLKADOT RAIN HAT</td>\n",
       "      <td>144</td>\n",
       "      <td>2011-08-26 14:19:00</td>\n",
       "      <td>0.0</td>\n",
       "      <td>14646.0</td>\n",
       "      <td>Netherlands</td>\n",
       "    </tr>\n",
       "    <tr>\n",
       "      <th>358655</th>\n",
       "      <td>568158</td>\n",
       "      <td>PADS</td>\n",
       "      <td>PADS TO MATCH ALL CUSHIONS</td>\n",
       "      <td>1</td>\n",
       "      <td>2011-09-25 12:22:00</td>\n",
       "      <td>0.0</td>\n",
       "      <td>16133.0</td>\n",
       "      <td>United Kingdom</td>\n",
       "    </tr>\n",
       "    <tr>\n",
       "      <th>361825</th>\n",
       "      <td>568384</td>\n",
       "      <td>M</td>\n",
       "      <td>Manual</td>\n",
       "      <td>1</td>\n",
       "      <td>2011-09-27 09:46:00</td>\n",
       "      <td>0.0</td>\n",
       "      <td>12748.0</td>\n",
       "      <td>United Kingdom</td>\n",
       "    </tr>\n",
       "    <tr>\n",
       "      <th>379913</th>\n",
       "      <td>569716</td>\n",
       "      <td>22778</td>\n",
       "      <td>GLASS CLOCHE SMALL</td>\n",
       "      <td>2</td>\n",
       "      <td>2011-10-06 08:17:00</td>\n",
       "      <td>0.0</td>\n",
       "      <td>15804.0</td>\n",
       "      <td>United Kingdom</td>\n",
       "    </tr>\n",
       "    <tr>\n",
       "      <th>395529</th>\n",
       "      <td>571035</td>\n",
       "      <td>M</td>\n",
       "      <td>Manual</td>\n",
       "      <td>1</td>\n",
       "      <td>2011-10-13 12:50:00</td>\n",
       "      <td>0.0</td>\n",
       "      <td>12446.0</td>\n",
       "      <td>RSA</td>\n",
       "    </tr>\n",
       "    <tr>\n",
       "      <th>420404</th>\n",
       "      <td>572893</td>\n",
       "      <td>21208</td>\n",
       "      <td>PASTEL COLOUR HONEYCOMB FAN</td>\n",
       "      <td>5</td>\n",
       "      <td>2011-10-26 14:36:00</td>\n",
       "      <td>0.0</td>\n",
       "      <td>18059.0</td>\n",
       "      <td>United Kingdom</td>\n",
       "    </tr>\n",
       "    <tr>\n",
       "      <th>436428</th>\n",
       "      <td>574138</td>\n",
       "      <td>23234</td>\n",
       "      <td>BISCUIT TIN VINTAGE CHRISTMAS</td>\n",
       "      <td>216</td>\n",
       "      <td>2011-11-03 11:26:00</td>\n",
       "      <td>0.0</td>\n",
       "      <td>12415.0</td>\n",
       "      <td>Australia</td>\n",
       "    </tr>\n",
       "    <tr>\n",
       "      <th>436597</th>\n",
       "      <td>574175</td>\n",
       "      <td>22065</td>\n",
       "      <td>CHRISTMAS PUDDING TRINKET POT</td>\n",
       "      <td>12</td>\n",
       "      <td>2011-11-03 11:47:00</td>\n",
       "      <td>0.0</td>\n",
       "      <td>14110.0</td>\n",
       "      <td>United Kingdom</td>\n",
       "    </tr>\n",
       "    <tr>\n",
       "      <th>436961</th>\n",
       "      <td>574252</td>\n",
       "      <td>M</td>\n",
       "      <td>Manual</td>\n",
       "      <td>1</td>\n",
       "      <td>2011-11-03 13:24:00</td>\n",
       "      <td>0.0</td>\n",
       "      <td>12437.0</td>\n",
       "      <td>France</td>\n",
       "    </tr>\n",
       "    <tr>\n",
       "      <th>439361</th>\n",
       "      <td>574469</td>\n",
       "      <td>22385</td>\n",
       "      <td>JUMBO BAG SPACEBOY DESIGN</td>\n",
       "      <td>12</td>\n",
       "      <td>2011-11-04 11:55:00</td>\n",
       "      <td>0.0</td>\n",
       "      <td>12431.0</td>\n",
       "      <td>Australia</td>\n",
       "    </tr>\n",
       "    <tr>\n",
       "      <th>446125</th>\n",
       "      <td>574879</td>\n",
       "      <td>22625</td>\n",
       "      <td>RED KITCHEN SCALES</td>\n",
       "      <td>2</td>\n",
       "      <td>2011-11-07 13:22:00</td>\n",
       "      <td>0.0</td>\n",
       "      <td>13014.0</td>\n",
       "      <td>United Kingdom</td>\n",
       "    </tr>\n",
       "    <tr>\n",
       "      <th>446793</th>\n",
       "      <td>574920</td>\n",
       "      <td>22899</td>\n",
       "      <td>CHILDREN'S APRON DOLLY GIRL</td>\n",
       "      <td>1</td>\n",
       "      <td>2011-11-07 16:34:00</td>\n",
       "      <td>0.0</td>\n",
       "      <td>13985.0</td>\n",
       "      <td>United Kingdom</td>\n",
       "    </tr>\n",
       "    <tr>\n",
       "      <th>446794</th>\n",
       "      <td>574920</td>\n",
       "      <td>23480</td>\n",
       "      <td>MINI LIGHTS WOODLAND MUSHROOMS</td>\n",
       "      <td>1</td>\n",
       "      <td>2011-11-07 16:34:00</td>\n",
       "      <td>0.0</td>\n",
       "      <td>13985.0</td>\n",
       "      <td>United Kingdom</td>\n",
       "    </tr>\n",
       "    <tr>\n",
       "      <th>454463</th>\n",
       "      <td>575579</td>\n",
       "      <td>22437</td>\n",
       "      <td>SET OF 9 BLACK SKULL BALLOONS</td>\n",
       "      <td>20</td>\n",
       "      <td>2011-11-10 11:49:00</td>\n",
       "      <td>0.0</td>\n",
       "      <td>13081.0</td>\n",
       "      <td>United Kingdom</td>\n",
       "    </tr>\n",
       "    <tr>\n",
       "      <th>454464</th>\n",
       "      <td>575579</td>\n",
       "      <td>22089</td>\n",
       "      <td>PAPER BUNTING VINTAGE PAISLEY</td>\n",
       "      <td>24</td>\n",
       "      <td>2011-11-10 11:49:00</td>\n",
       "      <td>0.0</td>\n",
       "      <td>13081.0</td>\n",
       "      <td>United Kingdom</td>\n",
       "    </tr>\n",
       "    <tr>\n",
       "      <th>479079</th>\n",
       "      <td>577129</td>\n",
       "      <td>22464</td>\n",
       "      <td>HANGING METAL HEART LANTERN</td>\n",
       "      <td>4</td>\n",
       "      <td>2011-11-17 19:52:00</td>\n",
       "      <td>0.0</td>\n",
       "      <td>15602.0</td>\n",
       "      <td>United Kingdom</td>\n",
       "    </tr>\n",
       "    <tr>\n",
       "      <th>479546</th>\n",
       "      <td>577168</td>\n",
       "      <td>M</td>\n",
       "      <td>Manual</td>\n",
       "      <td>1</td>\n",
       "      <td>2011-11-18 10:42:00</td>\n",
       "      <td>0.0</td>\n",
       "      <td>12603.0</td>\n",
       "      <td>Germany</td>\n",
       "    </tr>\n",
       "    <tr>\n",
       "      <th>480649</th>\n",
       "      <td>577314</td>\n",
       "      <td>23407</td>\n",
       "      <td>SET OF 2 TRAYS HOME SWEET HOME</td>\n",
       "      <td>2</td>\n",
       "      <td>2011-11-18 13:23:00</td>\n",
       "      <td>0.0</td>\n",
       "      <td>12444.0</td>\n",
       "      <td>Norway</td>\n",
       "    </tr>\n",
       "    <tr>\n",
       "      <th>485985</th>\n",
       "      <td>577696</td>\n",
       "      <td>M</td>\n",
       "      <td>Manual</td>\n",
       "      <td>1</td>\n",
       "      <td>2011-11-21 11:57:00</td>\n",
       "      <td>0.0</td>\n",
       "      <td>16406.0</td>\n",
       "      <td>United Kingdom</td>\n",
       "    </tr>\n",
       "    <tr>\n",
       "      <th>502122</th>\n",
       "      <td>578841</td>\n",
       "      <td>84826</td>\n",
       "      <td>ASSTD DESIGN 3D PAPER STICKERS</td>\n",
       "      <td>12540</td>\n",
       "      <td>2011-11-25 15:57:00</td>\n",
       "      <td>0.0</td>\n",
       "      <td>13256.0</td>\n",
       "      <td>United Kingdom</td>\n",
       "    </tr>\n",
       "  </tbody>\n",
       "</table>\n",
       "</div>"
      ],
      "text/plain": [
       "       InvoiceNo StockCode                          Description  Quantity  \\\n",
       "9302      537197     22841         ROUND CAKE TIN VINTAGE GREEN         1   \n",
       "33576     539263     22580         ADVENT CALENDAR GINGHAM SACK         4   \n",
       "40089     539722     22423             REGENCY CAKESTAND 3 TIER        10   \n",
       "47068     540372     22090              PAPER BUNTING RETROSPOT        24   \n",
       "47070     540372     22553               PLASTERS IN TIN SKULLS        24   \n",
       "56674     541109     22168        ORGANISER WOOD ANTIQUE WHITE          1   \n",
       "86789     543599    84535B         FAIRY CAKES NOTEBOOK A6 SIZE        16   \n",
       "130188    547417     22062  CERAMIC BOWL WITH LOVE HEART DESIGN        36   \n",
       "139453    548318     22055   MINI CAKE STAND  HANGING STRAWBERY         5   \n",
       "145208    548871     22162          HEART GARLAND RUSTIC PADDED         2   \n",
       "157042    550188     22636   CHILDS BREAKFAST SET CIRCUS PARADE         1   \n",
       "187613    553000     47566                        PARTY BUNTING         4   \n",
       "198383    554037     22619            SET OF 6 SOLDIER SKITTLES        80   \n",
       "279324    561284     22167           OVAL WALL MIRROR DIAMANTE          1   \n",
       "282912    561669     22960             JAM MAKING SET WITH JARS        11   \n",
       "285657    561916         M                               Manual         1   \n",
       "298054    562973     23157           SET OF 6 NATIVITY MAGNETS        240   \n",
       "314745    564651     23270     SET OF 2 CERAMIC PAINTED HEARTS         96   \n",
       "314746    564651     23268  SET OF 2 CERAMIC CHRISTMAS REINDEER       192   \n",
       "314747    564651     22955             36 FOIL STAR CAKE CASES        144   \n",
       "314748    564651     21786                   POLKADOT RAIN HAT        144   \n",
       "358655    568158      PADS           PADS TO MATCH ALL CUSHIONS         1   \n",
       "361825    568384         M                               Manual         1   \n",
       "379913    569716     22778                   GLASS CLOCHE SMALL         2   \n",
       "395529    571035         M                               Manual         1   \n",
       "420404    572893     21208          PASTEL COLOUR HONEYCOMB FAN         5   \n",
       "436428    574138     23234        BISCUIT TIN VINTAGE CHRISTMAS       216   \n",
       "436597    574175     22065       CHRISTMAS PUDDING TRINKET POT         12   \n",
       "436961    574252         M                               Manual         1   \n",
       "439361    574469     22385            JUMBO BAG SPACEBOY DESIGN        12   \n",
       "446125    574879     22625                   RED KITCHEN SCALES         2   \n",
       "446793    574920     22899         CHILDREN'S APRON DOLLY GIRL          1   \n",
       "446794    574920     23480       MINI LIGHTS WOODLAND MUSHROOMS         1   \n",
       "454463    575579     22437        SET OF 9 BLACK SKULL BALLOONS        20   \n",
       "454464    575579     22089        PAPER BUNTING VINTAGE PAISLEY        24   \n",
       "479079    577129     22464          HANGING METAL HEART LANTERN         4   \n",
       "479546    577168         M                               Manual         1   \n",
       "480649    577314     23407       SET OF 2 TRAYS HOME SWEET HOME         2   \n",
       "485985    577696         M                               Manual         1   \n",
       "502122    578841     84826       ASSTD DESIGN 3D PAPER STICKERS     12540   \n",
       "\n",
       "               InvoiceDate  UnitPrice  CustomerID         Country  \n",
       "9302   2010-12-05 14:02:00        0.0     12647.0         Germany  \n",
       "33576  2010-12-16 14:36:00        0.0     16560.0  United Kingdom  \n",
       "40089  2010-12-21 13:45:00        0.0     14911.0            EIRE  \n",
       "47068  2011-01-06 16:41:00        0.0     13081.0  United Kingdom  \n",
       "47070  2011-01-06 16:41:00        0.0     13081.0  United Kingdom  \n",
       "56674  2011-01-13 15:10:00        0.0     15107.0  United Kingdom  \n",
       "86789  2011-02-10 13:08:00        0.0     17560.0  United Kingdom  \n",
       "130188 2011-03-23 10:25:00        0.0     13239.0  United Kingdom  \n",
       "139453 2011-03-30 12:45:00        0.0     13113.0  United Kingdom  \n",
       "145208 2011-04-04 14:42:00        0.0     14410.0  United Kingdom  \n",
       "157042 2011-04-14 18:57:00        0.0     12457.0     Switzerland  \n",
       "187613 2011-05-12 15:21:00        0.0     17667.0  United Kingdom  \n",
       "198383 2011-05-20 14:13:00        0.0     12415.0       Australia  \n",
       "279324 2011-07-26 12:24:00        0.0     16818.0  United Kingdom  \n",
       "282912 2011-07-28 17:09:00        0.0     12507.0           Spain  \n",
       "285657 2011-08-01 11:44:00        0.0     15581.0  United Kingdom  \n",
       "298054 2011-08-11 11:42:00        0.0     14911.0            EIRE  \n",
       "314745 2011-08-26 14:19:00        0.0     14646.0     Netherlands  \n",
       "314746 2011-08-26 14:19:00        0.0     14646.0     Netherlands  \n",
       "314747 2011-08-26 14:19:00        0.0     14646.0     Netherlands  \n",
       "314748 2011-08-26 14:19:00        0.0     14646.0     Netherlands  \n",
       "358655 2011-09-25 12:22:00        0.0     16133.0  United Kingdom  \n",
       "361825 2011-09-27 09:46:00        0.0     12748.0  United Kingdom  \n",
       "379913 2011-10-06 08:17:00        0.0     15804.0  United Kingdom  \n",
       "395529 2011-10-13 12:50:00        0.0     12446.0             RSA  \n",
       "420404 2011-10-26 14:36:00        0.0     18059.0  United Kingdom  \n",
       "436428 2011-11-03 11:26:00        0.0     12415.0       Australia  \n",
       "436597 2011-11-03 11:47:00        0.0     14110.0  United Kingdom  \n",
       "436961 2011-11-03 13:24:00        0.0     12437.0          France  \n",
       "439361 2011-11-04 11:55:00        0.0     12431.0       Australia  \n",
       "446125 2011-11-07 13:22:00        0.0     13014.0  United Kingdom  \n",
       "446793 2011-11-07 16:34:00        0.0     13985.0  United Kingdom  \n",
       "446794 2011-11-07 16:34:00        0.0     13985.0  United Kingdom  \n",
       "454463 2011-11-10 11:49:00        0.0     13081.0  United Kingdom  \n",
       "454464 2011-11-10 11:49:00        0.0     13081.0  United Kingdom  \n",
       "479079 2011-11-17 19:52:00        0.0     15602.0  United Kingdom  \n",
       "479546 2011-11-18 10:42:00        0.0     12603.0         Germany  \n",
       "480649 2011-11-18 13:23:00        0.0     12444.0          Norway  \n",
       "485985 2011-11-21 11:57:00        0.0     16406.0  United Kingdom  \n",
       "502122 2011-11-25 15:57:00        0.0     13256.0  United Kingdom  "
      ]
     },
     "execution_count": 14,
     "metadata": {},
     "output_type": "execute_result"
    }
   ],
   "source": [
    "print('Check the register for a negative UnitPrice:')\n",
    "display(retail[(retail.UnitPrice<0)])\n",
    "print(\"Sales records with Customer ID and zero in Unit Price:\",retail[(retail.UnitPrice==0)  & ~(retail.CustomerID.isnull())].shape[0])\n",
    "retail[(retail.UnitPrice==0)  & ~(retail.CustomerID.isnull())]"
   ]
  },
  {
   "cell_type": "markdown",
   "id": "u8sI8V_EL1JV",
   "metadata": {
    "id": "u8sI8V_EL1JV"
   },
   "source": [
    "**There are no records in which both quantity and price are negative, however there are entries in which one is and the other is 0. However, we do not have the customer ID for any of these data. As a result, we infer that we can delete all entries in that quantity or price, as well as all negative data.**"
   ]
  },
  {
   "cell_type": "markdown",
   "id": "VZvRUYzDaOZj",
   "metadata": {
    "id": "VZvRUYzDaOZj"
   },
   "source": [
    "**Checking the number of missing data values**"
   ]
  },
  {
   "cell_type": "code",
   "execution_count": 15,
   "id": "9fbbd138",
   "metadata": {
    "colab": {
     "base_uri": "https://localhost:8080/"
    },
    "id": "9fbbd138",
    "outputId": "c536659b-a980-419f-e113-f330143086a3"
   },
   "outputs": [
    {
     "data": {
      "text/plain": [
       "InvoiceNo           0\n",
       "StockCode           0\n",
       "Description      1454\n",
       "Quantity            0\n",
       "InvoiceDate         0\n",
       "UnitPrice           0\n",
       "CustomerID     135080\n",
       "Country             0\n",
       "dtype: int64"
      ]
     },
     "execution_count": 15,
     "metadata": {},
     "output_type": "execute_result"
    }
   ],
   "source": [
    "retail.isnull().sum()"
   ]
  },
  {
   "cell_type": "code",
   "execution_count": 16,
   "id": "d79f7489",
   "metadata": {
    "colab": {
     "base_uri": "https://localhost:8080/",
     "height": 0
    },
    "id": "d79f7489",
    "outputId": "85b4adc7-9dc5-4a83-e74f-67b8955bbd72"
   },
   "outputs": [
    {
     "data": {
      "text/plain": [
       "<AxesSubplot:xlabel='Percent missing', ylabel='Features'>"
      ]
     },
     "execution_count": 16,
     "metadata": {},
     "output_type": "execute_result"
    },
    {
     "data": {
      "image/png": "[encoded data removed]",
      "text/plain": [
       "<Figure size 576x720 with 1 Axes>"
      ]
     },
     "metadata": {
      "needs_background": "light"
     },
     "output_type": "display_data"
    }
   ],
   "source": [
    "null_values = retail.isnull().sum()/len(retail)*100\n",
    "null_vals = pd.DataFrame(null_values)\n",
    "null_vals.reset_index(inplace = True)\n",
    "null_vals.columns = [\"Features\", \"Percent missing\"]\n",
    "plt.figure(figsize= (8,10))\n",
    "plt.xticks(rotation = 45)\n",
    "sns.barplot(x = \"Percent missing\", y = \"Features\", data = null_vals, orient = \"h\")"
   ]
  },
  {
   "cell_type": "markdown",
   "id": "8nNoCVKfcF1_",
   "metadata": {
    "id": "8nNoCVKfcF1_"
   },
   "source": [
    "### Dropping null values"
   ]
  },
  {
   "cell_type": "code",
   "execution_count": 17,
   "id": "2f087cb9",
   "metadata": {
    "colab": {
     "base_uri": "https://localhost:8080/"
    },
    "id": "2f087cb9",
    "outputId": "b4c54d69-e04b-4607-bdfa-1b9ae490f412"
   },
   "outputs": [
    {
     "name": "stdout",
     "output_type": "stream",
     "text": [
      "(541909, 8) (406829, 8)\n"
     ]
    }
   ],
   "source": [
    "retail_1 = retail.dropna(subset = [\"CustomerID\",\"Description\"])\n",
    "print(retail.shape,retail_1.shape)"
   ]
  },
  {
   "cell_type": "markdown",
   "id": "Rk7b-omocKRw",
   "metadata": {
    "id": "Rk7b-omocKRw"
   },
   "source": [
    "### Dropping duplicate values"
   ]
  },
  {
   "cell_type": "code",
   "execution_count": 18,
   "id": "f99bd17f",
   "metadata": {
    "colab": {
     "base_uri": "https://localhost:8080/"
    },
    "id": "f99bd17f",
    "outputId": "6b7d531c-cba0-4e50-8aa6-2aef6bb19d90"
   },
   "outputs": [
    {
     "name": "stdout",
     "output_type": "stream",
     "text": [
      "(401604, 8)\n"
     ]
    }
   ],
   "source": [
    "retail_2 = retail_1.drop_duplicates()\n",
    "print(retail_2.shape)"
   ]
  },
  {
   "cell_type": "markdown",
   "id": "nEXJDdPjcRKr",
   "metadata": {
    "id": "nEXJDdPjcRKr"
   },
   "source": [
    "### Choosing necessary columns "
   ]
  },
  {
   "cell_type": "code",
   "execution_count": 19,
   "id": "ddec21b8",
   "metadata": {
    "colab": {
     "base_uri": "https://localhost:8080/",
     "height": 0
    },
    "id": "ddec21b8",
    "outputId": "009b0e86-231c-499f-851c-c4432a1bc45a"
   },
   "outputs": [
    {
     "name": "stdout",
     "output_type": "stream",
     "text": [
      "(401604, 5)\n"
     ]
    },
    {
     "data": {
      "text/html": [
       "<div>\n",
       "<style scoped>\n",
       "    .dataframe tbody tr th:only-of-type {\n",
       "        vertical-align: middle;\n",
       "    }\n",
       "\n",
       "    .dataframe tbody tr th {\n",
       "        vertical-align: top;\n",
       "    }\n",
       "\n",
       "    .dataframe thead th {\n",
       "        text-align: right;\n",
       "    }\n",
       "</style>\n",
       "<table border=\"1\" class=\"dataframe\">\n",
       "  <thead>\n",
       "    <tr style=\"text-align: right;\">\n",
       "      <th></th>\n",
       "      <th>CustomerID</th>\n",
       "      <th>InvoiceDate</th>\n",
       "      <th>InvoiceNo</th>\n",
       "      <th>Quantity</th>\n",
       "      <th>UnitPrice</th>\n",
       "    </tr>\n",
       "  </thead>\n",
       "  <tbody>\n",
       "    <tr>\n",
       "      <th>0</th>\n",
       "      <td>17850.0</td>\n",
       "      <td>2010-12-01 08:26:00</td>\n",
       "      <td>536365</td>\n",
       "      <td>6</td>\n",
       "      <td>2.55</td>\n",
       "    </tr>\n",
       "    <tr>\n",
       "      <th>1</th>\n",
       "      <td>17850.0</td>\n",
       "      <td>2010-12-01 08:26:00</td>\n",
       "      <td>536365</td>\n",
       "      <td>6</td>\n",
       "      <td>3.39</td>\n",
       "    </tr>\n",
       "    <tr>\n",
       "      <th>2</th>\n",
       "      <td>17850.0</td>\n",
       "      <td>2010-12-01 08:26:00</td>\n",
       "      <td>536365</td>\n",
       "      <td>8</td>\n",
       "      <td>2.75</td>\n",
       "    </tr>\n",
       "  </tbody>\n",
       "</table>\n",
       "</div>"
      ],
      "text/plain": [
       "   CustomerID         InvoiceDate InvoiceNo  Quantity  UnitPrice\n",
       "0     17850.0 2010-12-01 08:26:00    536365         6       2.55\n",
       "1     17850.0 2010-12-01 08:26:00    536365         6       3.39\n",
       "2     17850.0 2010-12-01 08:26:00    536365         8       2.75"
      ]
     },
     "execution_count": 19,
     "metadata": {},
     "output_type": "execute_result"
    }
   ],
   "source": [
    "retail_3 = retail_2 [ ['CustomerID','InvoiceDate','InvoiceNo','Quantity','UnitPrice']]\n",
    "print(retail_3.shape)\n",
    "retail_3.head(3)"
   ]
  },
  {
   "cell_type": "markdown",
   "id": "vqlDPtZSeNhS",
   "metadata": {
    "id": "vqlDPtZSeNhS"
   },
   "source": [
    "# **Feature Engineering**"
   ]
  },
  {
   "cell_type": "code",
   "execution_count": 20,
   "id": "8d7d7a25",
   "metadata": {
    "colab": {
     "base_uri": "https://localhost:8080/",
     "height": 0
    },
    "id": "8d7d7a25",
    "outputId": "aeab4c48-8018-42d0-cb20-e4a0990df68c"
   },
   "outputs": [
    {
     "name": "stdout",
     "output_type": "stream",
     "text": [
      "(401604, 6)\n"
     ]
    },
    {
     "name": "stderr",
     "output_type": "stream",
     "text": [
      "<ipython-input-20-39dce29b3277>:1: SettingWithCopyWarning: \n",
      "A value is trying to be set on a copy of a slice from a DataFrame.\n",
      "Try using .loc[row_indexer,col_indexer] = value instead\n",
      "\n",
      "See the caveats in the documentation: https://pandas.pydata.org/pandas-docs/stable/user_guide/indexing.html#returning-a-view-versus-a-copy\n",
      "  retail_3['TotalPrice'] = retail_3['Quantity'] * retail_3['UnitPrice']\n"
     ]
    },
    {
     "data": {
      "text/html": [
       "<div>\n",
       "<style scoped>\n",
       "    .dataframe tbody tr th:only-of-type {\n",
       "        vertical-align: middle;\n",
       "    }\n",
       "\n",
       "    .dataframe tbody tr th {\n",
       "        vertical-align: top;\n",
       "    }\n",
       "\n",
       "    .dataframe thead th {\n",
       "        text-align: right;\n",
       "    }\n",
       "</style>\n",
       "<table border=\"1\" class=\"dataframe\">\n",
       "  <thead>\n",
       "    <tr style=\"text-align: right;\">\n",
       "      <th></th>\n",
       "      <th>CustomerID</th>\n",
       "      <th>InvoiceDate</th>\n",
       "      <th>InvoiceNo</th>\n",
       "      <th>Quantity</th>\n",
       "      <th>UnitPrice</th>\n",
       "      <th>TotalPrice</th>\n",
       "    </tr>\n",
       "  </thead>\n",
       "  <tbody>\n",
       "    <tr>\n",
       "      <th>0</th>\n",
       "      <td>17850.0</td>\n",
       "      <td>2010-12-01 08:26:00</td>\n",
       "      <td>536365</td>\n",
       "      <td>6</td>\n",
       "      <td>2.55</td>\n",
       "      <td>15.30</td>\n",
       "    </tr>\n",
       "    <tr>\n",
       "      <th>1</th>\n",
       "      <td>17850.0</td>\n",
       "      <td>2010-12-01 08:26:00</td>\n",
       "      <td>536365</td>\n",
       "      <td>6</td>\n",
       "      <td>3.39</td>\n",
       "      <td>20.34</td>\n",
       "    </tr>\n",
       "    <tr>\n",
       "      <th>2</th>\n",
       "      <td>17850.0</td>\n",
       "      <td>2010-12-01 08:26:00</td>\n",
       "      <td>536365</td>\n",
       "      <td>8</td>\n",
       "      <td>2.75</td>\n",
       "      <td>22.00</td>\n",
       "    </tr>\n",
       "  </tbody>\n",
       "</table>\n",
       "</div>"
      ],
      "text/plain": [
       "   CustomerID         InvoiceDate InvoiceNo  Quantity  UnitPrice  TotalPrice\n",
       "0     17850.0 2010-12-01 08:26:00    536365         6       2.55       15.30\n",
       "1     17850.0 2010-12-01 08:26:00    536365         6       3.39       20.34\n",
       "2     17850.0 2010-12-01 08:26:00    536365         8       2.75       22.00"
      ]
     },
     "execution_count": 20,
     "metadata": {},
     "output_type": "execute_result"
    }
   ],
   "source": [
    "retail_3['TotalPrice'] = retail_3['Quantity'] * retail_3['UnitPrice']\n",
    "print(retail_3.shape)\n",
    "retail_3.head(3)"
   ]
  },
  {
   "cell_type": "markdown",
   "id": "QMIIJ-LOMpZR",
   "metadata": {
    "id": "QMIIJ-LOMpZR"
   },
   "source": [
    "### **Total Price column can be generated using the product of already present features such as Quantity and Unit Price**"
   ]
  },
  {
   "cell_type": "markdown",
   "id": "soKp7kfONYAK",
   "metadata": {
    "id": "soKp7kfONYAK"
   },
   "source": [
    "# **RFM Model**"
   ]
  },
  {
   "cell_type": "markdown",
   "id": "NR-PshAINhE8",
   "metadata": {
    "id": "NR-PshAINhE8"
   },
   "source": [
    "### **We will utilize an RFM,Recency, Frequency, and Monetary Value, based model of customer value to determine our customer groups because our dataset is confined to sales records and does not include any other information about our customers. The RFM model will analyze a customer's transactions and determine three key informative qualities about them:**\n",
    "### **Recency: The value of how recently a customer purchased**\n",
    "\n",
    "### **Frequency: How frequent the customer’s transactions are done**\n",
    "\n",
    "### **Monetary: The value of all the transactions that the customer made**\n"
   ]
  },
  {
   "cell_type": "markdown",
   "id": "yl8LPpGzeSVz",
   "metadata": {
    "id": "yl8LPpGzeSVz"
   },
   "source": [
    "### Printing earliest and latest dates in the data"
   ]
  },
  {
   "cell_type": "code",
   "execution_count": 21,
   "id": "bd54aea0",
   "metadata": {
    "colab": {
     "base_uri": "https://localhost:8080/"
    },
    "id": "bd54aea0",
    "outputId": "7ec8f544-1f5c-4aab-d4a4-94fe9da5f9df"
   },
   "outputs": [
    {
     "name": "stdout",
     "output_type": "stream",
     "text": [
      "Min:2010-12-01 08:26:00, Max:2011-12-09 12:50:00\n"
     ]
    }
   ],
   "source": [
    "print('Min:{}, Max:{}'.format(retail_3['InvoiceDate'].min(), retail_3['InvoiceDate'].max()))"
   ]
  },
  {
   "cell_type": "markdown",
   "id": "WaxGHC4lO1k1",
   "metadata": {
    "id": "WaxGHC4lO1k1"
   },
   "source": [
    "**We must first choose a reference date for our study before we can generate the recency feature variable.**"
   ]
  },
  {
   "cell_type": "markdown",
   "id": "CN3IgyUWeU7I",
   "metadata": {
    "id": "CN3IgyUWeU7I"
   },
   "source": [
    "### Creating a reference date for analysis (Next date of the maximum date) "
   ]
  },
  {
   "cell_type": "code",
   "execution_count": 22,
   "id": "c8c96c32",
   "metadata": {
    "colab": {
     "base_uri": "https://localhost:8080/"
    },
    "id": "c8c96c32",
    "outputId": "f5ea9c66-d808-419c-9d5e-3f5fccffb9b2"
   },
   "outputs": [
    {
     "data": {
      "text/plain": [
       "datetime.datetime(2011, 12, 10, 0, 0)"
      ]
     },
     "execution_count": 22,
     "metadata": {},
     "output_type": "execute_result"
    }
   ],
   "source": [
    "current_date = dt.datetime(2011,12,10)\n",
    "current_date"
   ]
  },
  {
   "cell_type": "markdown",
   "id": "RXoEEi7aeYoU",
   "metadata": {
    "id": "RXoEEi7aeYoU"
   },
   "source": [
    "### Calculate Recency, Frequency, Monetary for all customers"
   ]
  },
  {
   "cell_type": "code",
   "execution_count": 23,
   "id": "1ea4ff27",
   "metadata": {
    "colab": {
     "base_uri": "https://localhost:8080/",
     "height": 192
    },
    "id": "1ea4ff27",
    "outputId": "1367b8c2-fc07-4daf-d908-2f688362e1e9"
   },
   "outputs": [
    {
     "name": "stdout",
     "output_type": "stream",
     "text": [
      "(4372, 3)\n"
     ]
    },
    {
     "data": {
      "text/html": [
       "<div>\n",
       "<style scoped>\n",
       "    .dataframe tbody tr th:only-of-type {\n",
       "        vertical-align: middle;\n",
       "    }\n",
       "\n",
       "    .dataframe tbody tr th {\n",
       "        vertical-align: top;\n",
       "    }\n",
       "\n",
       "    .dataframe thead th {\n",
       "        text-align: right;\n",
       "    }\n",
       "</style>\n",
       "<table border=\"1\" class=\"dataframe\">\n",
       "  <thead>\n",
       "    <tr style=\"text-align: right;\">\n",
       "      <th></th>\n",
       "      <th>Recency</th>\n",
       "      <th>Frequency</th>\n",
       "      <th>Monetary</th>\n",
       "    </tr>\n",
       "    <tr>\n",
       "      <th>CustomerID</th>\n",
       "      <th></th>\n",
       "      <th></th>\n",
       "      <th></th>\n",
       "    </tr>\n",
       "  </thead>\n",
       "  <tbody>\n",
       "    <tr>\n",
       "      <th>12346.0</th>\n",
       "      <td>325</td>\n",
       "      <td>2</td>\n",
       "      <td>0.00</td>\n",
       "    </tr>\n",
       "    <tr>\n",
       "      <th>12347.0</th>\n",
       "      <td>2</td>\n",
       "      <td>182</td>\n",
       "      <td>4310.00</td>\n",
       "    </tr>\n",
       "    <tr>\n",
       "      <th>12348.0</th>\n",
       "      <td>75</td>\n",
       "      <td>31</td>\n",
       "      <td>1797.24</td>\n",
       "    </tr>\n",
       "  </tbody>\n",
       "</table>\n",
       "</div>"
      ],
      "text/plain": [
       "            Recency  Frequency  Monetary\n",
       "CustomerID                              \n",
       "12346.0         325          2      0.00\n",
       "12347.0           2        182   4310.00\n",
       "12348.0          75         31   1797.24"
      ]
     },
     "execution_count": 23,
     "metadata": {},
     "output_type": "execute_result"
    }
   ],
   "source": [
    "retail_4 = retail_3.groupby(['CustomerID']).agg({ 'InvoiceDate': lambda x: (current_date - x.max()).days, 'InvoiceNo': 'count',\n",
    "'TotalPrice': 'sum'})\n",
    "retail_4.rename(columns = {'InvoiceDate': 'Recency', 'InvoiceNo': 'Frequency','TotalPrice': 'Monetary'}, inplace=True)\n",
    "print(retail_4.shape)\n",
    "retail_4.head(3)"
   ]
  },
  {
   "cell_type": "markdown",
   "id": "Rk9L5Hbmecon",
   "metadata": {
    "id": "Rk9L5Hbmecon"
   },
   "source": [
    "### Removing zero values "
   ]
  },
  {
   "cell_type": "code",
   "execution_count": 24,
   "id": "4231b483",
   "metadata": {
    "colab": {
     "base_uri": "https://localhost:8080/",
     "height": 192
    },
    "id": "4231b483",
    "outputId": "24c97ec6-99aa-4114-d64c-a556d286caa3"
   },
   "outputs": [
    {
     "name": "stdout",
     "output_type": "stream",
     "text": [
      "(4284, 3)\n"
     ]
    },
    {
     "data": {
      "text/html": [
       "<div>\n",
       "<style scoped>\n",
       "    .dataframe tbody tr th:only-of-type {\n",
       "        vertical-align: middle;\n",
       "    }\n",
       "\n",
       "    .dataframe tbody tr th {\n",
       "        vertical-align: top;\n",
       "    }\n",
       "\n",
       "    .dataframe thead th {\n",
       "        text-align: right;\n",
       "    }\n",
       "</style>\n",
       "<table border=\"1\" class=\"dataframe\">\n",
       "  <thead>\n",
       "    <tr style=\"text-align: right;\">\n",
       "      <th></th>\n",
       "      <th>Recency</th>\n",
       "      <th>Frequency</th>\n",
       "      <th>Monetary</th>\n",
       "    </tr>\n",
       "    <tr>\n",
       "      <th>CustomerID</th>\n",
       "      <th></th>\n",
       "      <th></th>\n",
       "      <th></th>\n",
       "    </tr>\n",
       "  </thead>\n",
       "  <tbody>\n",
       "    <tr>\n",
       "      <th>12347.0</th>\n",
       "      <td>2</td>\n",
       "      <td>182</td>\n",
       "      <td>4310.00</td>\n",
       "    </tr>\n",
       "    <tr>\n",
       "      <th>12348.0</th>\n",
       "      <td>75</td>\n",
       "      <td>31</td>\n",
       "      <td>1797.24</td>\n",
       "    </tr>\n",
       "    <tr>\n",
       "      <th>12349.0</th>\n",
       "      <td>18</td>\n",
       "      <td>73</td>\n",
       "      <td>1757.55</td>\n",
       "    </tr>\n",
       "  </tbody>\n",
       "</table>\n",
       "</div>"
      ],
      "text/plain": [
       "            Recency  Frequency  Monetary\n",
       "CustomerID                              \n",
       "12347.0           2        182   4310.00\n",
       "12348.0          75         31   1797.24\n",
       "12349.0          18         73   1757.55"
      ]
     },
     "execution_count": 24,
     "metadata": {},
     "output_type": "execute_result"
    }
   ],
   "source": [
    "retail_5 = retail_4[(retail_4 > 0).all(1)]\n",
    "print(retail_5.shape)\n",
    "retail_5.head(3)"
   ]
  },
  {
   "cell_type": "code",
   "execution_count": 25,
   "id": "61baf7db",
   "metadata": {
    "colab": {
     "base_uri": "https://localhost:8080/",
     "height": 300
    },
    "id": "61baf7db",
    "outputId": "8ca8a197-245a-4c9e-edb5-601e34e804f5"
   },
   "outputs": [
    {
     "data": {
      "text/html": [
       "<div>\n",
       "<style scoped>\n",
       "    .dataframe tbody tr th:only-of-type {\n",
       "        vertical-align: middle;\n",
       "    }\n",
       "\n",
       "    .dataframe tbody tr th {\n",
       "        vertical-align: top;\n",
       "    }\n",
       "\n",
       "    .dataframe thead th {\n",
       "        text-align: right;\n",
       "    }\n",
       "</style>\n",
       "<table border=\"1\" class=\"dataframe\">\n",
       "  <thead>\n",
       "    <tr style=\"text-align: right;\">\n",
       "      <th></th>\n",
       "      <th>Recency</th>\n",
       "      <th>Frequency</th>\n",
       "      <th>Monetary</th>\n",
       "    </tr>\n",
       "  </thead>\n",
       "  <tbody>\n",
       "    <tr>\n",
       "      <th>count</th>\n",
       "      <td>4284.000000</td>\n",
       "      <td>4284.000000</td>\n",
       "      <td>4.284000e+03</td>\n",
       "    </tr>\n",
       "    <tr>\n",
       "      <th>mean</th>\n",
       "      <td>90.676471</td>\n",
       "      <td>90.185341</td>\n",
       "      <td>1.802891e+03</td>\n",
       "    </tr>\n",
       "    <tr>\n",
       "      <th>std</th>\n",
       "      <td>99.211872</td>\n",
       "      <td>217.749743</td>\n",
       "      <td>7.226246e+03</td>\n",
       "    </tr>\n",
       "    <tr>\n",
       "      <th>min</th>\n",
       "      <td>1.000000</td>\n",
       "      <td>1.000000</td>\n",
       "      <td>1.243450e-14</td>\n",
       "    </tr>\n",
       "    <tr>\n",
       "      <th>25%</th>\n",
       "      <td>17.000000</td>\n",
       "      <td>18.000000</td>\n",
       "      <td>2.988725e+02</td>\n",
       "    </tr>\n",
       "    <tr>\n",
       "      <th>50%</th>\n",
       "      <td>50.000000</td>\n",
       "      <td>42.000000</td>\n",
       "      <td>6.467200e+02</td>\n",
       "    </tr>\n",
       "    <tr>\n",
       "      <th>75%</th>\n",
       "      <td>140.000000</td>\n",
       "      <td>99.000000</td>\n",
       "      <td>1.596963e+03</td>\n",
       "    </tr>\n",
       "    <tr>\n",
       "      <th>max</th>\n",
       "      <td>373.000000</td>\n",
       "      <td>7812.000000</td>\n",
       "      <td>2.794890e+05</td>\n",
       "    </tr>\n",
       "  </tbody>\n",
       "</table>\n",
       "</div>"
      ],
      "text/plain": [
       "           Recency    Frequency      Monetary\n",
       "count  4284.000000  4284.000000  4.284000e+03\n",
       "mean     90.676471    90.185341  1.802891e+03\n",
       "std      99.211872   217.749743  7.226246e+03\n",
       "min       1.000000     1.000000  1.243450e-14\n",
       "25%      17.000000    18.000000  2.988725e+02\n",
       "50%      50.000000    42.000000  6.467200e+02\n",
       "75%     140.000000    99.000000  1.596963e+03\n",
       "max     373.000000  7812.000000  2.794890e+05"
      ]
     },
     "execution_count": 25,
     "metadata": {},
     "output_type": "execute_result"
    }
   ],
   "source": [
    "retail_5.describe()"
   ]
  },
  {
   "cell_type": "markdown",
   "id": "CU1g8s1xeg_d",
   "metadata": {
    "id": "CU1g8s1xeg_d"
   },
   "source": [
    "### Plotting the distribution graph"
   ]
  },
  {
   "cell_type": "code",
   "execution_count": 26,
   "id": "d43cafeb",
   "metadata": {
    "colab": {
     "base_uri": "https://localhost:8080/",
     "height": 351
    },
    "id": "d43cafeb",
    "outputId": "a1480617-4301-42f3-e888-529bc2cd1190"
   },
   "outputs": [
    {
     "name": "stderr",
     "output_type": "stream",
     "text": [
      "C:\\Users\\ronak\\anaconda3\\lib\\site-packages\\seaborn\\distributions.py:2557: FutureWarning: `distplot` is a deprecated function and will be removed in a future version. Please adapt your code to use either `displot` (a figure-level function with similar flexibility) or `histplot` (an axes-level function for histograms).\n",
      "  warnings.warn(msg, FutureWarning)\n"
     ]
    },
    {
     "data": {
      "text/plain": [
       "<AxesSubplot:xlabel='Recency', ylabel='Density'>"
      ]
     },
     "execution_count": 26,
     "metadata": {},
     "output_type": "execute_result"
    },
    {
     "data": {
      "image/png": "[encoded data removed]",
      "text/plain": [
       "<Figure size 432x288 with 1 Axes>"
      ]
     },
     "metadata": {
      "needs_background": "light"
     },
     "output_type": "display_data"
    }
   ],
   "source": [
    "sns.distplot(retail_5['Recency'])"
   ]
  },
  {
   "cell_type": "code",
   "execution_count": 27,
   "id": "d3233326",
   "metadata": {
    "colab": {
     "base_uri": "https://localhost:8080/",
     "height": 351
    },
    "id": "d3233326",
    "outputId": "ab223d2c-8716-43c2-9261-98a473de496f"
   },
   "outputs": [
    {
     "name": "stderr",
     "output_type": "stream",
     "text": [
      "C:\\Users\\ronak\\anaconda3\\lib\\site-packages\\seaborn\\distributions.py:2557: FutureWarning: `distplot` is a deprecated function and will be removed in a future version. Please adapt your code to use either `displot` (a figure-level function with similar flexibility) or `histplot` (an axes-level function for histograms).\n",
      "  warnings.warn(msg, FutureWarning)\n"
     ]
    },
    {
     "data": {
      "text/plain": [
       "<AxesSubplot:xlabel='Frequency', ylabel='Density'>"
      ]
     },
     "execution_count": 27,
     "metadata": {},
     "output_type": "execute_result"
    },
    {
     "data": {
      "image/png": "[encoded data removed]",
      "text/plain": [
       "<Figure size 432x288 with 1 Axes>"
      ]
     },
     "metadata": {
      "needs_background": "light"
     },
     "output_type": "display_data"
    }
   ],
   "source": [
    "sns.distplot(retail_5['Frequency'])"
   ]
  },
  {
   "cell_type": "code",
   "execution_count": 28,
   "id": "828b176d",
   "metadata": {
    "colab": {
     "base_uri": "https://localhost:8080/",
     "height": 351
    },
    "id": "828b176d",
    "outputId": "52cb8091-e6f5-4ed3-ddd3-10bc4c9301bd"
   },
   "outputs": [
    {
     "name": "stderr",
     "output_type": "stream",
     "text": [
      "C:\\Users\\ronak\\anaconda3\\lib\\site-packages\\seaborn\\distributions.py:2557: FutureWarning: `distplot` is a deprecated function and will be removed in a future version. Please adapt your code to use either `displot` (a figure-level function with similar flexibility) or `histplot` (an axes-level function for histograms).\n",
      "  warnings.warn(msg, FutureWarning)\n"
     ]
    },
    {
     "data": {
      "text/plain": [
       "<AxesSubplot:xlabel='Monetary', ylabel='Density'>"
      ]
     },
     "execution_count": 28,
     "metadata": {},
     "output_type": "execute_result"
    },
    {
     "data": {
      "image/png": "[encoded data removed]",
      "text/plain": [
       "<Figure size 432x288 with 1 Axes>"
      ]
     },
     "metadata": {
      "needs_background": "light"
     },
     "output_type": "display_data"
    }
   ],
   "source": [
    "sns.distplot(retail_5['Monetary'])"
   ]
  },
  {
   "cell_type": "markdown",
   "id": "N9S-c_DUPRUW",
   "metadata": {
    "id": "N9S-c_DUPRUW"
   },
   "source": [
    "**We can see that all the distribution graphs are right skewed. Inorder to handle the skewness we need to perform log transformation**"
   ]
  },
  {
   "cell_type": "markdown",
   "id": "TvRYgBmAelOK",
   "metadata": {
    "id": "TvRYgBmAelOK"
   },
   "source": [
    "### Normalizing skewness using Log Transform"
   ]
  },
  {
   "cell_type": "code",
   "execution_count": 29,
   "id": "c6e6568c",
   "metadata": {
    "colab": {
     "base_uri": "https://localhost:8080/",
     "height": 192
    },
    "id": "c6e6568c",
    "outputId": "7625aad0-2ff2-467d-85f4-3f9a2a5aa466"
   },
   "outputs": [
    {
     "name": "stdout",
     "output_type": "stream",
     "text": [
      "(4284, 3)\n"
     ]
    },
    {
     "data": {
      "text/html": [
       "<div>\n",
       "<style scoped>\n",
       "    .dataframe tbody tr th:only-of-type {\n",
       "        vertical-align: middle;\n",
       "    }\n",
       "\n",
       "    .dataframe tbody tr th {\n",
       "        vertical-align: top;\n",
       "    }\n",
       "\n",
       "    .dataframe thead th {\n",
       "        text-align: right;\n",
       "    }\n",
       "</style>\n",
       "<table border=\"1\" class=\"dataframe\">\n",
       "  <thead>\n",
       "    <tr style=\"text-align: right;\">\n",
       "      <th></th>\n",
       "      <th>Recency</th>\n",
       "      <th>Frequency</th>\n",
       "      <th>Monetary</th>\n",
       "    </tr>\n",
       "    <tr>\n",
       "      <th>CustomerID</th>\n",
       "      <th></th>\n",
       "      <th></th>\n",
       "      <th></th>\n",
       "    </tr>\n",
       "  </thead>\n",
       "  <tbody>\n",
       "    <tr>\n",
       "      <th>12347.0</th>\n",
       "      <td>1.098612</td>\n",
       "      <td>5.209486</td>\n",
       "      <td>8.368925</td>\n",
       "    </tr>\n",
       "    <tr>\n",
       "      <th>12348.0</th>\n",
       "      <td>4.330733</td>\n",
       "      <td>3.465736</td>\n",
       "      <td>7.494564</td>\n",
       "    </tr>\n",
       "    <tr>\n",
       "      <th>12349.0</th>\n",
       "      <td>2.944439</td>\n",
       "      <td>4.304065</td>\n",
       "      <td>7.472245</td>\n",
       "    </tr>\n",
       "  </tbody>\n",
       "</table>\n",
       "</div>"
      ],
      "text/plain": [
       "             Recency  Frequency  Monetary\n",
       "CustomerID                               \n",
       "12347.0     1.098612   5.209486  8.368925\n",
       "12348.0     4.330733   3.465736  7.494564\n",
       "12349.0     2.944439   4.304065  7.472245"
      ]
     },
     "execution_count": 29,
     "metadata": {},
     "output_type": "execute_result"
    }
   ],
   "source": [
    "online_retail = np.log(retail_5 + 1)\n",
    "print(online_retail.shape)\n",
    "online_retail.head(3)"
   ]
  },
  {
   "cell_type": "markdown",
   "id": "vNlkYsXheoaF",
   "metadata": {
    "id": "vNlkYsXheoaF"
   },
   "source": [
    "### Plotting the distribution graph after Log Transformation"
   ]
  },
  {
   "cell_type": "code",
   "execution_count": 30,
   "id": "a9e2ac3c",
   "metadata": {
    "colab": {
     "base_uri": "https://localhost:8080/",
     "height": 351
    },
    "id": "a9e2ac3c",
    "outputId": "1b259e9b-989d-40ba-eef3-bc98b6351209"
   },
   "outputs": [
    {
     "name": "stderr",
     "output_type": "stream",
     "text": [
      "C:\\Users\\ronak\\anaconda3\\lib\\site-packages\\seaborn\\distributions.py:2557: FutureWarning: `distplot` is a deprecated function and will be removed in a future version. Please adapt your code to use either `displot` (a figure-level function with similar flexibility) or `histplot` (an axes-level function for histograms).\n",
      "  warnings.warn(msg, FutureWarning)\n"
     ]
    },
    {
     "data": {
      "text/plain": [
       "<AxesSubplot:xlabel='Recency', ylabel='Density'>"
      ]
     },
     "execution_count": 30,
     "metadata": {},
     "output_type": "execute_result"
    },
    {
     "data": {
      "image/png": "[encoded data removed]",
      "text/plain": [
       "<Figure size 432x288 with 1 Axes>"
      ]
     },
     "metadata": {
      "needs_background": "light"
     },
     "output_type": "display_data"
    }
   ],
   "source": [
    "sns.distplot(online_retail['Recency'])"
   ]
  },
  {
   "cell_type": "code",
   "execution_count": 31,
   "id": "e1a9d344",
   "metadata": {
    "colab": {
     "base_uri": "https://localhost:8080/",
     "height": 351
    },
    "id": "e1a9d344",
    "outputId": "d53deac0-4837-4cce-c2ee-b840d9b7ffe5"
   },
   "outputs": [
    {
     "name": "stderr",
     "output_type": "stream",
     "text": [
      "C:\\Users\\ronak\\anaconda3\\lib\\site-packages\\seaborn\\distributions.py:2557: FutureWarning: `distplot` is a deprecated function and will be removed in a future version. Please adapt your code to use either `displot` (a figure-level function with similar flexibility) or `histplot` (an axes-level function for histograms).\n",
      "  warnings.warn(msg, FutureWarning)\n"
     ]
    },
    {
     "data": {
      "text/plain": [
       "<AxesSubplot:xlabel='Frequency', ylabel='Density'>"
      ]
     },
     "execution_count": 31,
     "metadata": {},
     "output_type": "execute_result"
    },
    {
     "data": {
      "image/png": "[encoded data removed]",
      "text/plain": [
       "<Figure size 432x288 with 1 Axes>"
      ]
     },
     "metadata": {
      "needs_background": "light"
     },
     "output_type": "display_data"
    }
   ],
   "source": [
    "sns.distplot(online_retail['Frequency'])"
   ]
  },
  {
   "cell_type": "code",
   "execution_count": 32,
   "id": "f5c2be27",
   "metadata": {
    "colab": {
     "base_uri": "https://localhost:8080/",
     "height": 351
    },
    "id": "f5c2be27",
    "outputId": "a66be8fd-16fc-4d83-ef16-1425c107c477"
   },
   "outputs": [
    {
     "name": "stderr",
     "output_type": "stream",
     "text": [
      "C:\\Users\\ronak\\anaconda3\\lib\\site-packages\\seaborn\\distributions.py:2557: FutureWarning: `distplot` is a deprecated function and will be removed in a future version. Please adapt your code to use either `displot` (a figure-level function with similar flexibility) or `histplot` (an axes-level function for histograms).\n",
      "  warnings.warn(msg, FutureWarning)\n"
     ]
    },
    {
     "data": {
      "text/plain": [
       "<AxesSubplot:xlabel='Monetary', ylabel='Density'>"
      ]
     },
     "execution_count": 32,
     "metadata": {},
     "output_type": "execute_result"
    },
    {
     "data": {
      "image/png": "[encoded data removed]",
      "text/plain": [
       "<Figure size 432x288 with 1 Axes>"
      ]
     },
     "metadata": {
      "needs_background": "light"
     },
     "output_type": "display_data"
    }
   ],
   "source": [
    "sns.distplot(online_retail['Monetary'])"
   ]
  },
  {
   "cell_type": "markdown",
   "id": "-Awo4On7PzuT",
   "metadata": {
    "id": "-Awo4On7PzuT"
   },
   "source": [
    "**The distribution are normalized and we can see Frequency and Monetary are normally distributed**"
   ]
  },
  {
   "cell_type": "markdown",
   "id": "XK0NGHMLer1V",
   "metadata": {
    "id": "XK0NGHMLer1V"
   },
   "source": [
    "# **K Means Clustering Without Using Library**"
   ]
  },
  {
   "cell_type": "code",
   "execution_count": 33,
   "id": "dd0c3d5e",
   "metadata": {
    "id": "dd0c3d5e"
   },
   "outputs": [],
   "source": [
    "def kmeans(K,online_retail):\n",
    "    Centroids = (online_retail.sample(n=K))\n",
    "    plt.scatter(online_retail[\"Frequency\"],online_retail[\"Monetary\"],c='black')\n",
    "    plt.scatter(Centroids[\"Frequency\"],Centroids[\"Monetary\"],c='red')\n",
    "    plt.xlabel('Frequency')\n",
    "    plt.ylabel('Monetary')\n",
    "    plt.show()\n",
    "    diff = 1\n",
    "    j=0\n",
    "\n",
    "    while(diff!=0):\n",
    "        XD=online_retail\n",
    "        i=1\n",
    "        for index1,row_c in Centroids.iterrows():\n",
    "            ED=[]\n",
    "            for index2,row_d in XD.iterrows():\n",
    "                d1=(row_c[\"Frequency\"]-row_d[\"Frequency\"])**2\n",
    "                d2=(row_c[\"Monetary\"]-row_d[\"Monetary\"])**2\n",
    "                d=np.sqrt(d1+d2)\n",
    "                ED.append(d)\n",
    "            online_retail[i]=ED\n",
    "            i=i+1\n",
    "\n",
    "        C=[]\n",
    "        for index,row in online_retail.iterrows():\n",
    "            min_dist=row[1]\n",
    "            pos=1\n",
    "            for i in range(K):\n",
    "                if row[i+1] < min_dist:\n",
    "                    min_dist = row[i+1]\n",
    "                    pos=i+1\n",
    "            C.append(pos)\n",
    "        online_retail[\"Cluster\"]=C\n",
    "        Centroids_new = online_retail.groupby([\"Cluster\"]).mean()[[\"Monetary\",\"Frequency\"]]\n",
    "        if j == 0:\n",
    "            diff=1\n",
    "            j=j+1\n",
    "        else:\n",
    "            diff = (Centroids_new['Monetary'] - Centroids['Monetary']).sum() + (Centroids_new['Frequency'] - Centroids['Frequency']).sum()\n",
    "            print(diff.sum())\n",
    "        Centroids = online_retail.groupby([\"Cluster\"]).mean()[[\"Monetary\",\"Frequency\"]]\n",
    "        color=['orange','purple','forestgreen','blue','cyan','dodgerblue', 'lime', \"lightgreen\"]\n",
    "        legends=['cluster1','cluster2','cluster3','cluster4','cluster5','cluster6','cluster7']\n",
    "    for k in range(K):\n",
    "        data=online_retail[online_retail[\"Cluster\"]==k+1]\n",
    "        plt.scatter(data[\"Frequency\"],data[\"Monetary\"],c=color[k],label=legends[k])\n",
    "    plt.scatter(Centroids[\"Frequency\"],Centroids[\"Monetary\"],c='red', label='Centroids')\n",
    "    plt.xlabel('Frequency')\n",
    "    plt.ylabel('Monetary')\n",
    "    plt.legend()\n",
    "    plt.show()"
   ]
  },
  {
   "cell_type": "code",
   "execution_count": 34,
   "id": "2767ed6b",
   "metadata": {
    "colab": {
     "base_uri": "https://localhost:8080/",
     "height": 1000
    },
    "id": "2767ed6b",
    "outputId": "0f52a1dd-add9-412a-edce-2b8519d438c4"
   },
   "outputs": [
    {
     "data": {
      "image/png": "[encoded data removed]",
      "text/plain": [
       "<Figure size 432x288 with 1 Axes>"
      ]
     },
     "metadata": {
      "needs_background": "light"
     },
     "output_type": "display_data"
    },
    {
     "name": "stdout",
     "output_type": "stream",
     "text": [
      "0.0\n"
     ]
    },
    {
     "data": {
      "image/png": "[encoded data removed]",
      "text/plain": [
       "<Figure size 432x288 with 1 Axes>"
      ]
     },
     "metadata": {
      "needs_background": "light"
     },
     "output_type": "display_data"
    },
    {
     "data": {
      "image/png": "[encoded data removed]",
      "text/plain": [
       "<Figure size 432x288 with 1 Axes>"
      ]
     },
     "metadata": {
      "needs_background": "light"
     },
     "output_type": "display_data"
    },
    {
     "name": "stdout",
     "output_type": "stream",
     "text": [
      "-0.774786751919025\n",
      "-0.48947392661705047\n",
      "-0.3173745143100497\n",
      "-0.1770890368180318\n",
      "-0.11983063057918875\n",
      "-0.06935465350103476\n",
      "-0.03016524599631687\n",
      "-0.015951092483322604\n",
      "-0.008858652350414609\n",
      "-0.003541345866430401\n",
      "0.0\n"
     ]
    },
    {
     "data": {
      "image/png": "[encoded data removed]",
      "text/plain": [
       "<Figure size 432x288 with 1 Axes>"
      ]
     },
     "metadata": {
      "needs_background": "light"
     },
     "output_type": "display_data"
    },
    {
     "data": {
      "image/png": "[encoded data removed]",
      "text/plain": [
       "<Figure size 432x288 with 1 Axes>"
      ]
     },
     "metadata": {
      "needs_background": "light"
     },
     "output_type": "display_data"
    },
    {
     "name": "stdout",
     "output_type": "stream",
     "text": [
      "-0.09064687706403429\n",
      "-0.030842774304025156\n",
      "-0.04136382521546622\n",
      "-0.03709893509100759\n",
      "-0.03208314897195397\n",
      "-0.017503551389095318\n",
      "-0.012839019259739626\n",
      "-0.009401496047200197\n",
      "-0.010541154486368054\n",
      "-0.01569466356604643\n",
      "-0.013193741934690806\n",
      "-0.015306580872252784\n",
      "-0.01184255149594815\n",
      "-0.005941551110403953\n",
      "-0.007999700937617149\n",
      "-0.0017184785040185169\n",
      "0.0\n"
     ]
    },
    {
     "data": {
      "image/png": "[encoded data removed]",
      "text/plain": [
       "<Figure size 432x288 with 1 Axes>"
      ]
     },
     "metadata": {
      "needs_background": "light"
     },
     "output_type": "display_data"
    },
    {
     "data": {
      "image/png": "[encoded data removed]",
      "text/plain": [
       "<Figure size 432x288 with 1 Axes>"
      ]
     },
     "metadata": {
      "needs_background": "light"
     },
     "output_type": "display_data"
    },
    {
     "name": "stdout",
     "output_type": "stream",
     "text": [
      "-0.7258899612291603\n",
      "-0.23775557918556478\n",
      "-0.14643359321163096\n",
      "-0.22282821173519718\n",
      "-0.2096888805348498\n",
      "-0.22256418473756678\n",
      "-0.24377854975200863\n",
      "-0.2471783427712726\n",
      "-0.2543755932820524\n",
      "-0.2200880817997839\n",
      "-0.223678935252428\n",
      "-0.1786547771078668\n",
      "-0.15960410338525577\n",
      "-0.14573910669478307\n",
      "-0.10904096243630246\n",
      "-0.11041676294607905\n",
      "-0.1300790824950071\n",
      "-0.10001107260961462\n",
      "-0.08007795645594218\n",
      "-0.07459339592671421\n",
      "-0.05229650916117423\n",
      "-0.03789077436621113\n",
      "-0.03967216362535142\n",
      "-0.024223891276608178\n",
      "-0.02509794860319836\n",
      "-0.011030001689181113\n",
      "-0.0064657474930229775\n",
      "0.0\n"
     ]
    },
    {
     "data": {
      "image/png": "[encoded data removed]",
      "text/plain": [
       "<Figure size 432x288 with 1 Axes>"
      ]
     },
     "metadata": {
      "needs_background": "light"
     },
     "output_type": "display_data"
    },
    {
     "data": {
      "image/png": "[encoded data removed]",
      "text/plain": [
       "<Figure size 432x288 with 1 Axes>"
      ]
     },
     "metadata": {
      "needs_background": "light"
     },
     "output_type": "display_data"
    },
    {
     "name": "stdout",
     "output_type": "stream",
     "text": [
      "0.7147645034182986\n",
      "0.731556507673355\n",
      "0.650569879125235\n",
      "0.4969510059706763\n",
      "0.44241082939056886\n",
      "0.34984949249011343\n",
      "0.3179523465419374\n",
      "0.25587951047393553\n",
      "0.20089275781051397\n",
      "0.18959262043235614\n",
      "0.19987835411334398\n",
      "0.19983422864518796\n",
      "0.1672991977079048\n",
      "0.16400092769649732\n",
      "0.13662567374325074\n",
      "0.10427787509620523\n",
      "0.08798994177842445\n",
      "0.09082067744827338\n",
      "0.10913932709664631\n",
      "0.13375315111669783\n",
      "0.13713674091653005\n",
      "0.12169398613359994\n",
      "0.11779715690975512\n",
      "0.12763765367525814\n",
      "0.128427146686237\n",
      "0.14507787085666135\n",
      "0.11302741876425482\n",
      "0.11913260090626165\n",
      "0.125213815761559\n",
      "0.12158710268686246\n",
      "0.11468781007773066\n",
      "0.10758460530459524\n",
      "0.10236747289290271\n",
      "0.09366562619756191\n",
      "0.11232234300071364\n",
      "0.0949047335819122\n",
      "0.07802294038739954\n",
      "0.05849121664907009\n",
      "0.0646700010787018\n",
      "0.05176201922593493\n",
      "0.08076129255565445\n",
      "0.06215305356803569\n",
      "0.043965437463299395\n",
      "0.04298745710059393\n",
      "0.03064034746790334\n",
      "0.029911679005685254\n",
      "0.02732683141113834\n",
      "0.022339522533535217\n",
      "0.011851891680942916\n",
      "0.00917782353768537\n",
      "0.011989329249095126\n",
      "0.0079395423319637\n",
      "0.004713688012026207\n",
      "0.005668981495754899\n",
      "0.003982404973584153\n",
      "0.003930554286834642\n",
      "0.003489605992364364\n",
      "0.007130607004015577\n",
      "0.003918705889812024\n",
      "0.003973689365582622\n",
      "0.003861275010696552\n",
      "0.0\n"
     ]
    },
    {
     "data": {
      "image/png": "[encoded data removed]",
      "text/plain": [
       "<Figure size 432x288 with 1 Axes>"
      ]
     },
     "metadata": {
      "needs_background": "light"
     },
     "output_type": "display_data"
    },
    {
     "data": {
      "image/png": "[encoded data removed]",
      "text/plain": [
       "<Figure size 432x288 with 1 Axes>"
      ]
     },
     "metadata": {
      "needs_background": "light"
     },
     "output_type": "display_data"
    },
    {
     "name": "stdout",
     "output_type": "stream",
     "text": [
      "-0.14621120259381493\n",
      "-0.3382510765846398\n",
      "-0.2613794992240417\n",
      "-0.06006501908413697\n",
      "0.07493599333235279\n",
      "0.13809778945724904\n",
      "0.12287403734998836\n",
      "0.054065494015966165\n",
      "0.01768068038475179\n",
      "0.0019679922425508423\n",
      "0.015235002657012497\n",
      "0.04419967656971635\n",
      "0.04676220187876079\n",
      "0.03533762679456265\n",
      "0.03410866445406491\n",
      "0.050152790237000255\n",
      "-0.0021775935441361582\n",
      "0.01483840686979665\n",
      "0.03476378955226522\n",
      "0.07050801503688486\n",
      "0.07452384131450773\n",
      "0.060358382804575506\n",
      "0.041595947103236997\n",
      "0.049087446042721306\n",
      "0.02206342775003267\n",
      "0.020211118466013867\n",
      "0.011455047380948047\n",
      "-0.005904053585852553\n",
      "0.0034518063661659326\n",
      "0.012428639708435663\n",
      "-0.0008051132454176546\n",
      "0.00020135943194299344\n",
      "-0.0103072922220655\n",
      "-0.019673432042752736\n",
      "-0.008956522163891867\n",
      "-0.010360347886640975\n",
      "-0.007008379055921221\n",
      "-0.006045730672008087\n",
      "0.0016545540000461045\n",
      "0.0\n"
     ]
    },
    {
     "data": {
      "image/png": "[encoded data removed]",
      "text/plain": [
       "<Figure size 432x288 with 1 Axes>"
      ]
     },
     "metadata": {
      "needs_background": "light"
     },
     "output_type": "display_data"
    },
    {
     "data": {
      "image/png": "[encoded data removed]",
      "text/plain": [
       "<Figure size 432x288 with 1 Axes>"
      ]
     },
     "metadata": {
      "needs_background": "light"
     },
     "output_type": "display_data"
    },
    {
     "name": "stdout",
     "output_type": "stream",
     "text": [
      "-0.1580801473565394\n",
      "0.06306619449509299\n",
      "0.169210176891319\n",
      "0.1930431525447791\n",
      "0.1951631940315146\n",
      "0.18303444082362663\n",
      "0.22539505998585097\n",
      "0.1852867806742171\n",
      "0.18727885510636266\n",
      "0.20416727412874947\n",
      "0.1852918428457495\n",
      "0.12210411308325186\n",
      "0.08060313749763837\n",
      "0.08033130306537006\n",
      "0.054558495262695406\n",
      "0.0431620157281587\n",
      "0.022099292106330548\n",
      "-0.019499917569564262\n",
      "-0.0037329659134759385\n",
      "-0.01059317440475871\n",
      "-0.047986538626256126\n",
      "-0.03385736711617593\n",
      "-0.005226544602574323\n",
      "0.010822302513914472\n",
      "0.023548588205487775\n",
      "0.012706322701821815\n",
      "0.019895668540787614\n",
      "0.020030863933249154\n",
      "0.04797960530444079\n",
      "0.025734605201323868\n",
      "0.025813304177008112\n",
      "0.021629961672282594\n",
      "0.004610940556298626\n",
      "0.0018506955751238507\n",
      "0.0018478070299989824\n",
      "0.00523951438849668\n",
      "0.013558377600139337\n",
      "0.006806026865870951\n",
      "0.010558349101048137\n",
      "0.011347411526912765\n",
      "0.014959415907163987\n",
      "0.013271943912880335\n",
      "0.010565899552858138\n",
      "0.007808251547627432\n",
      "0.001854741930853443\n",
      "0.0\n"
     ]
    },
    {
     "data": {
      "image/png": "[encoded data removed]",
      "text/plain": [
       "<Figure size 432x288 with 1 Axes>"
      ]
     },
     "metadata": {
      "needs_background": "light"
     },
     "output_type": "display_data"
    }
   ],
   "source": [
    "for i in range(1,8):\n",
    "    plt.title('KMeans Clustering: {} Clusters'.format(i))\n",
    "    kmeans(i,online_retail)"
   ]
  },
  {
   "cell_type": "markdown",
   "id": "SY1-rVY6RFqP",
   "metadata": {
    "id": "SY1-rVY6RFqP"
   },
   "source": [
    "# **Conclusion**\n",
    "**We can deduce the following steps required for performing K-Measns Clustering**\n",
    "\n",
    "Step 1 - Specify the number K of clusters\n",
    "\n",
    "Step 2 - Randomly initialize K centroids.\n",
    "\n",
    "Step 3 - Assign all the points to the closest cluster centroid\n",
    "\n",
    "Step 4 - Recompute the centroids of newly formed clusters\n",
    "\n",
    "Step 5 - Repeat Steps 3 and 4\n",
    "\n",
    "In the above figure we can see upto 7 clusters has been performed considering each data point\n"
   ]
  },
  {
   "cell_type": "markdown",
   "id": "5eQnHk9jaJxa",
   "metadata": {
    "id": "5eQnHk9jaJxa"
   },
   "source": [
    "# **References**\n",
    "\n",
    "\n",
    "1.   https://www.analyticsvidhya.com/blog/2019/08/comprehensive-guide-k-means-clustering/\n",
    "2.   Refered Towards Data Science\n",
    "\n",
    "The online retail dataset was used. Referred to the notebook shared by the professor to understand the concept of RFM. Towards Data Science and Analytics Vidhya has been referred inorder to understand more about how to generate model without using any libraries. I have also tried to produnce my own findings in terms of negative quantity and unit prices \n",
    "\n",
    "Copyright 2021 Ronak Bhushan Patil\n",
    "\n",
    "Permission is hereby granted, free of charge, to any person obtaining a copy of this software and associated documentation files (the \"Software\"), to deal in the Software without restriction, including without limitation the rights to use, copy, modify, merge, publish, distribute, sublicense, and/or sell copies of the Software, and to permit persons to whom the Software is furnished to do so, subject to the following conditions:\n",
    "The above copyright notice and this permission notice shall be included in all copies or substantial portions of the Software.\n",
    "THE SOFTWARE IS PROVIDED \"AS IS\", WITHOUT WARRANTY OF ANY KIND, EXPRESS OR IMPLIED, INCLUDING BUT NOT LIMITED TO THE WARRANTIES OF MERCHANTABILITY, FITNESS FOR A PARTICULAR PURPOSE AND NONINFRINGEMENT. IN NO EVENT SHALL THE AUTHORS OR COPYRIGHT HOLDERS BE LIABLE FOR ANY CLAIM, DAMAGES OR OTHER LIABILITY, WHETHER IN AN ACTION OF CONTRACT, TORT OR OTHERWISE, ARISING FROM, OUT OF OR IN CONNECTION WITH THE SOFTWARE OR THE USE OR OTHER DEALINGS IN THE SOFTWARE"
   ]
  }
 ],
 "metadata": {
  "colab": {
   "name": "ADS Assignment-1.ipynb",
   "provenance": []
  },
  "kernelspec": {
   "display_name": "Python 3",
   "language": "python",
   "name": "python3"
  },
  "language_info": {
   "codemirror_mode": {
    "name": "ipython",
    "version": 3
   },
   "file_extension": ".py",
   "mimetype": "text/x-python",
   "name": "python",
   "nbconvert_exporter": "python",
   "pygments_lexer": "ipython3",
   "version": "3.8.8"
  }
 },
 "nbformat": 4,
 "nbformat_minor": 5
}
